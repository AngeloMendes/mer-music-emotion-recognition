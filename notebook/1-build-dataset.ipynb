{
 "cells": [
  {
   "cell_type": "code",
   "execution_count": 1,
   "metadata": {
    "collapsed": true
   },
   "outputs": [],
   "source": [
    "import numpy as np\n",
    "import pandas as pd"
   ]
  },
  {
   "cell_type": "code",
   "execution_count": 2,
   "outputs": [
    {
     "data": {
      "text/plain": "   musicId  audspec_lengthL1norm_sma_range  audspec_lengthL1norm_sma_maxPos  \\\n0        1                        7.318236                         0.716432   \n1        4                        6.558082                         0.703399   \n2        5                        8.152512                         0.368032   \n\n   audspec_lengthL1norm_sma_minPos  audspec_lengthL1norm_sma_quartile1  \\\n0                              0.0                            2.245124   \n1                              0.0                            1.606873   \n2                              0.0                            1.404577   \n\n   audspec_lengthL1norm_sma_quartile2  audspec_lengthL1norm_sma_quartile3  \\\n0                            3.145057                            3.956726   \n1                            2.116417                            2.917487   \n2                            1.969597                            2.666271   \n\n   audspec_lengthL1norm_sma_iqr1-2  audspec_lengthL1norm_sma_iqr2-3  \\\n0                         0.899933                         0.811669   \n1                         0.509543                         0.801071   \n2                         0.565020                         0.696674   \n\n   audspec_lengthL1norm_sma_iqr1-3  ...  mfcc_sma_de[14]_peakRangeAbs  \\\n0                         1.711601  ...                     10.694290   \n1                         1.310614  ...                      8.273178   \n2                         1.261694  ...                      9.705502   \n\n   mfcc_sma_de[14]_peakRangeRel  mfcc_sma_de[14]_peakMeanAbs  \\\n0                      0.552123                     2.884782   \n1                      0.535849                     2.659783   \n2                      0.598316                     2.422745   \n\n   mfcc_sma_de[14]_peakMeanMeanDist  mfcc_sma_de[14]_peakMeanRel  \\\n0                          2.886936                    -1339.063   \n1                          2.660821                    -2561.713   \n2                          2.421824                     2630.371   \n\n   mfcc_sma_de[14]_minRangeRel  mfcc_sma_de[14]_meanRisingSlope  \\\n0                     0.554930                         113.5535   \n1                     0.665665                         104.4877   \n2                     0.550189                         105.5406   \n\n   mfcc_sma_de[14]_stddevRisingSlope  mfcc_sma_de[14]_meanFallingSlope  \\\n0                           57.37954                          111.6133   \n1                           63.52283                          106.1832   \n2                           53.73272                          105.5167   \n\n   mfcc_sma_de[14]_stddevFallingSlope  \n0                            59.35901  \n1                            54.71746  \n2                            54.68540  \n\n[3 rows x 6374 columns]",
      "text/html": "<div>\n<style scoped>\n    .dataframe tbody tr th:only-of-type {\n        vertical-align: middle;\n    }\n\n    .dataframe tbody tr th {\n        vertical-align: top;\n    }\n\n    .dataframe thead th {\n        text-align: right;\n    }\n</style>\n<table border=\"1\" class=\"dataframe\">\n  <thead>\n    <tr style=\"text-align: right;\">\n      <th></th>\n      <th>musicId</th>\n      <th>audspec_lengthL1norm_sma_range</th>\n      <th>audspec_lengthL1norm_sma_maxPos</th>\n      <th>audspec_lengthL1norm_sma_minPos</th>\n      <th>audspec_lengthL1norm_sma_quartile1</th>\n      <th>audspec_lengthL1norm_sma_quartile2</th>\n      <th>audspec_lengthL1norm_sma_quartile3</th>\n      <th>audspec_lengthL1norm_sma_iqr1-2</th>\n      <th>audspec_lengthL1norm_sma_iqr2-3</th>\n      <th>audspec_lengthL1norm_sma_iqr1-3</th>\n      <th>...</th>\n      <th>mfcc_sma_de[14]_peakRangeAbs</th>\n      <th>mfcc_sma_de[14]_peakRangeRel</th>\n      <th>mfcc_sma_de[14]_peakMeanAbs</th>\n      <th>mfcc_sma_de[14]_peakMeanMeanDist</th>\n      <th>mfcc_sma_de[14]_peakMeanRel</th>\n      <th>mfcc_sma_de[14]_minRangeRel</th>\n      <th>mfcc_sma_de[14]_meanRisingSlope</th>\n      <th>mfcc_sma_de[14]_stddevRisingSlope</th>\n      <th>mfcc_sma_de[14]_meanFallingSlope</th>\n      <th>mfcc_sma_de[14]_stddevFallingSlope</th>\n    </tr>\n  </thead>\n  <tbody>\n    <tr>\n      <th>0</th>\n      <td>1</td>\n      <td>7.318236</td>\n      <td>0.716432</td>\n      <td>0.0</td>\n      <td>2.245124</td>\n      <td>3.145057</td>\n      <td>3.956726</td>\n      <td>0.899933</td>\n      <td>0.811669</td>\n      <td>1.711601</td>\n      <td>...</td>\n      <td>10.694290</td>\n      <td>0.552123</td>\n      <td>2.884782</td>\n      <td>2.886936</td>\n      <td>-1339.063</td>\n      <td>0.554930</td>\n      <td>113.5535</td>\n      <td>57.37954</td>\n      <td>111.6133</td>\n      <td>59.35901</td>\n    </tr>\n    <tr>\n      <th>1</th>\n      <td>4</td>\n      <td>6.558082</td>\n      <td>0.703399</td>\n      <td>0.0</td>\n      <td>1.606873</td>\n      <td>2.116417</td>\n      <td>2.917487</td>\n      <td>0.509543</td>\n      <td>0.801071</td>\n      <td>1.310614</td>\n      <td>...</td>\n      <td>8.273178</td>\n      <td>0.535849</td>\n      <td>2.659783</td>\n      <td>2.660821</td>\n      <td>-2561.713</td>\n      <td>0.665665</td>\n      <td>104.4877</td>\n      <td>63.52283</td>\n      <td>106.1832</td>\n      <td>54.71746</td>\n    </tr>\n    <tr>\n      <th>2</th>\n      <td>5</td>\n      <td>8.152512</td>\n      <td>0.368032</td>\n      <td>0.0</td>\n      <td>1.404577</td>\n      <td>1.969597</td>\n      <td>2.666271</td>\n      <td>0.565020</td>\n      <td>0.696674</td>\n      <td>1.261694</td>\n      <td>...</td>\n      <td>9.705502</td>\n      <td>0.598316</td>\n      <td>2.422745</td>\n      <td>2.421824</td>\n      <td>2630.371</td>\n      <td>0.550189</td>\n      <td>105.5406</td>\n      <td>53.73272</td>\n      <td>105.5167</td>\n      <td>54.68540</td>\n    </tr>\n  </tbody>\n</table>\n<p>3 rows × 6374 columns</p>\n</div>"
     },
     "execution_count": 2,
     "metadata": {},
     "output_type": "execute_result"
    }
   ],
   "source": [
    "static_features_df = pd.read_csv(\"../data/raw/PMEmo2019/features/static_features.csv\")\n",
    "static_features_df.head(3)"
   ],
   "metadata": {
    "collapsed": false,
    "pycharm": {
     "name": "#%%\n"
    }
   }
  },
  {
   "cell_type": "code",
   "execution_count": 183,
   "outputs": [
    {
     "data": {
      "text/plain": "    music_id                           music_artist  \\\n0        334                               sem nome   \n1        698                              Trap_Girl   \n2        350                                    工作婊   \n3        492  Kane Brown/Matt McGinn/Jordan Schmidt   \n4        311                             雪贤Seolhyun   \n..       ...                                    ...   \n624      399                             Gucci Mane   \n625      606                               sem nome   \n626      755                         Paul McCartney   \n627      648                               sem nome   \n628      932                                hondoes   \n\n                                                lyrics  \n0    It's my house, come on, turn it up Hear a knoc...  \n1    Tell me the price Tell me the price Tell me th...  \n2    These bitches want Nikes They looking for a ch...  \n3     You say what if I hurt you  What if I leave y...  \n4    Súbeme la radio Tra-tráeme el alcohol Súbeme l...  \n..                                                 ...  \n624  Zone six! - I got money that I saved then I'm ...  \n625   Inner feelings I never felt  The way you got ...  \n626  biang biang biang biang ~ ba ba ba ba bang ban...  \n627  I've cheated and I've lied I've fallen down fr...  \n628  You can run free, I won't hold it against ya Y...  \n\n[629 rows x 3 columns]",
      "text/html": "<div>\n<style scoped>\n    .dataframe tbody tr th:only-of-type {\n        vertical-align: middle;\n    }\n\n    .dataframe tbody tr th {\n        vertical-align: top;\n    }\n\n    .dataframe thead th {\n        text-align: right;\n    }\n</style>\n<table border=\"1\" class=\"dataframe\">\n  <thead>\n    <tr style=\"text-align: right;\">\n      <th></th>\n      <th>music_id</th>\n      <th>music_artist</th>\n      <th>lyrics</th>\n    </tr>\n  </thead>\n  <tbody>\n    <tr>\n      <th>0</th>\n      <td>334</td>\n      <td>sem nome</td>\n      <td>It's my house, come on, turn it up Hear a knoc...</td>\n    </tr>\n    <tr>\n      <th>1</th>\n      <td>698</td>\n      <td>Trap_Girl</td>\n      <td>Tell me the price Tell me the price Tell me th...</td>\n    </tr>\n    <tr>\n      <th>2</th>\n      <td>350</td>\n      <td>工作婊</td>\n      <td>These bitches want Nikes They looking for a ch...</td>\n    </tr>\n    <tr>\n      <th>3</th>\n      <td>492</td>\n      <td>Kane Brown/Matt McGinn/Jordan Schmidt</td>\n      <td>You say what if I hurt you  What if I leave y...</td>\n    </tr>\n    <tr>\n      <th>4</th>\n      <td>311</td>\n      <td>雪贤Seolhyun</td>\n      <td>Súbeme la radio Tra-tráeme el alcohol Súbeme l...</td>\n    </tr>\n    <tr>\n      <th>...</th>\n      <td>...</td>\n      <td>...</td>\n      <td>...</td>\n    </tr>\n    <tr>\n      <th>624</th>\n      <td>399</td>\n      <td>Gucci Mane</td>\n      <td>Zone six! - I got money that I saved then I'm ...</td>\n    </tr>\n    <tr>\n      <th>625</th>\n      <td>606</td>\n      <td>sem nome</td>\n      <td>Inner feelings I never felt  The way you got ...</td>\n    </tr>\n    <tr>\n      <th>626</th>\n      <td>755</td>\n      <td>Paul McCartney</td>\n      <td>biang biang biang biang ~ ba ba ba ba bang ban...</td>\n    </tr>\n    <tr>\n      <th>627</th>\n      <td>648</td>\n      <td>sem nome</td>\n      <td>I've cheated and I've lied I've fallen down fr...</td>\n    </tr>\n    <tr>\n      <th>628</th>\n      <td>932</td>\n      <td>hondoes</td>\n      <td>You can run free, I won't hold it against ya Y...</td>\n    </tr>\n  </tbody>\n</table>\n<p>629 rows × 3 columns</p>\n</div>"
     },
     "execution_count": 183,
     "metadata": {},
     "output_type": "execute_result"
    }
   ],
   "source": [
    "import re\n",
    "\n",
    "from glob import glob\n",
    "dataset=[]\n",
    "for letra in glob(\"../data/raw/PMEmo2019/lyrics/*\"):\n",
    "    l = open(letra,\"r\")\n",
    "    l = l.readlines()\n",
    "    aux = 3*[0] #music_id, music_name, letra\n",
    "    aux[0] = letra.split(\"/\")[-1].split(\".\")[0] #music_id\n",
    "    if \"by:\" in l[0]:\n",
    "        aux[1]=l[0].split(\":\")[-1].replace(\"]\",\"\").replace('\\n',\"\")\n",
    "    else:\n",
    "        aux[1]= \"sem nome\"\n",
    "    l_tmp=[]#len(l)*[0]\n",
    "    l_tmp.append(aux[1])#music_name //eh ignorado\n",
    "    for i, content in enumerate(l[1:], start=1):\n",
    "        try:\n",
    "            l_tmp.append(content.split(\"]\")[-1].replace(\"\\n\",\"\") if \"]\" in content else content.replace(\"\\n\",\"\"))\n",
    "        except IndexError:\n",
    "            print(aux[0], content)\n",
    "            l_tmp.append(\"\")\n",
    "            pass\n",
    "    aux[2]=\" \".join(l_tmp[1:])\n",
    "    dataset.append(aux)\n",
    "df = pd.DataFrame(dataset, columns=[\"music_id\",\"music_artist\",\"lyrics\"])\n",
    "df"
   ],
   "metadata": {
    "collapsed": false,
    "pycharm": {
     "name": "#%%\n"
    }
   }
  },
  {
   "cell_type": "code",
   "execution_count": 184,
   "outputs": [],
   "source": [
    "df = df[df.music_id!=\"769\"] #musica sem letra"
   ],
   "metadata": {
    "collapsed": false,
    "pycharm": {
     "name": "#%%\n"
    }
   }
  },
  {
   "cell_type": "code",
   "execution_count": 185,
   "outputs": [
    {
     "data": {
      "text/plain": "    music_id                                       music_artist  \\\n5        461                                                工作婊   \n33       839                                               绿茶鸡腿   \n47       665                                        NickyRomero   \n60       471  Guy James Robin/Grace Barker/Jason Pebworth/Jo...   \n63       913                                           sem nome   \n92       979                                           sem nome   \n125      102                                           sem nome   \n130       40                                           sem nome   \n164      600                                           sem nome   \n166      329                             九九Lrc歌词网～www.99Lrc.net   \n176       78                                           sem nome   \n229      151                                      Akira_Takeshi   \n244      858                                         Hhhhhhaaaa   \n249      883                                           sem nome   \n289      332                                         Dafne丶keen   \n291      189                                             Bl_ues   \n293      267                                          Trap_Girl   \n301      147                     Chris Stapleton/Mike Henderson   \n311      915                                              White   \n316      459                            Brian Wilson/Tony Asher   \n336      149                                             稳稳的幸福惹   \n338      614                                          CaryCheng   \n340      204                                            Rayna-M   \n345       85                                           sem nome   \n354      108                                           sem nome   \n356       74                                       LaurenceJang   \n367      759                                               PIKO   \n390      225                                             初级说唱翻译   \n397      170                                                工作婊   \n407      507                                            哈里-斯泰尔斯   \n418      464                                         John Mayer   \n419       21                            Brian Wilson/Tony Asher   \n425      236                                             初级说唱翻译   \n426      310                                                工作婊   \n431      705                                               bill   \n436      715                                           sem nome   \n440      771                                               切换么事   \n446      391                                          youRcHeer   \n457      148           Chris Stapleton/Kendall Marvel/Tim James   \n468      202                                            哈里-斯泰尔斯   \n474      779                                           sem nome   \n490      506                                            hondoes   \n495       50                                           sem nome   \n526      491                                                燃情蓝   \n528      596                   Lin-Manuel Miranda/Opetaia Foa'i   \n532       20                                         Al Jarreau   \n550      884                      Wesley Schultz/Jeremy Fraites   \n578      996                                              miist   \n584      683                                           sem nome   \n587      192                                           sem nome   \n617      434                                            小陀螺Tony   \n618      660                                             HysHzz   \n621      166                                           sem nome   \n626      755                                     Paul McCartney   \n\n                                                lyrics  \n5    I am not done changing Out on the run, changin...  \n33   All the leaves are brown and the sky is gray I...  \n47   In the faded light you touch my body I can fee...  \n60   Let's go out and be wild Do it while we can (d...  \n63   A vision of my nails in the kitchen Scratching...  \n92   And I was just a kid I was always trying To do...  \n125  It`s the best time of the year I don`t know if...  \n130  Tale as old as time True as it can be Barely e...  \n164  I gotta heart rush, ain’t slowin’ down I got i...  \n166  That's my girl Who's been working so damn hard...  \n176  Jingle bells swing and jingle bells ring Snowi...  \n229  I used to spend my nights out In a bar room Li...  \n244  There will be days When the sun won't shine Wh...  \n249  让我们有请The Knocks 我带来了 名字叫做Wyclef的乐队 我们需要所有性感女士 ...  \n289  Listen to the wind blow Watch the sun rise Run...  \n291     Staring at two different views on your wind...  \n293  Ever hear some slow tracks You know what I'm s...  \n301  Seen my share of broken halos  Folded wings th...  \n311  I'm gonna fight 'em off A seven nation army co...  \n316  I may not always love you But as long as there...  \n336      Honey load up your questions And pick up y...  \n338       The Night We Met - Lord Huron Ohoo Ohoo O...  \n340  I was the one who had it all I was the master ...  \n345  At the Christmas party hop Mistletoe hung wher...  \n354  Lightning strikes every time she moves And eve...  \n356  There's an echo pulling out the meaning Rescui...  \n367  P P A P I have a pen I have an apple Uh apple ...  \n390  Oh, oh, oh, oh I've been hurt so many times It...  \n397  Come up to meet you, tell you I'm sorry You do...  \n407      I know he hurt you Made you scared of love...  \n418   A great big bang and dinosaurs Fiery raining ...  \n419  You were the shadow to my light Did you feel u...  \n425  I'm runnin' but can't run away You say you cha...  \n426  There's something sweet, and almost kind But h...  \n431  Hey there Mr. Tin Man You don't know how lucky...  \n436  I know that  I can count on you When that's no...  \n440  I'm not a woman I'm not a man I am something t...  \n446   Here come old flat top He come groovin' up sl...  \n457  We pass in the hall  On our way to separate ro...  \n468       I can honestly understand why it's over I...  \n474  Couldn't look you in the eye You're just like ...  \n490  I need a gangsta To love me better Than all th...  \n495  Kick  It! You  wake  up  late  for  school  ma...  \n526  Oh,father tell me, Do we get what we deserve O...  \n528  Tatou o tagata folau e vala’auina E le atua o ...  \n532  It's like a diamond ring It's a precious thing...  \n550  Ah, ah, when I was younger I, I should've know...  \n578  I'm facing the battle  Through all of my probl...  \n584  Everywhere you go; Take a look at the five and...  \n587  Turn down for what? Turn down for what? Turn d...  \n617  I see the, I see the I see the, I see the I se...  \n618      I'm going on Nothing feels like home I'm s...  \n621  Been rusting in the rubble Running to a faint ...  \n626  biang biang biang biang ~ ba ba ba ba bang ban...  ",
      "text/html": "<div>\n<style scoped>\n    .dataframe tbody tr th:only-of-type {\n        vertical-align: middle;\n    }\n\n    .dataframe tbody tr th {\n        vertical-align: top;\n    }\n\n    .dataframe thead th {\n        text-align: right;\n    }\n</style>\n<table border=\"1\" class=\"dataframe\">\n  <thead>\n    <tr style=\"text-align: right;\">\n      <th></th>\n      <th>music_id</th>\n      <th>music_artist</th>\n      <th>lyrics</th>\n    </tr>\n  </thead>\n  <tbody>\n    <tr>\n      <th>5</th>\n      <td>461</td>\n      <td>工作婊</td>\n      <td>I am not done changing Out on the run, changin...</td>\n    </tr>\n    <tr>\n      <th>33</th>\n      <td>839</td>\n      <td>绿茶鸡腿</td>\n      <td>All the leaves are brown and the sky is gray I...</td>\n    </tr>\n    <tr>\n      <th>47</th>\n      <td>665</td>\n      <td>NickyRomero</td>\n      <td>In the faded light you touch my body I can fee...</td>\n    </tr>\n    <tr>\n      <th>60</th>\n      <td>471</td>\n      <td>Guy James Robin/Grace Barker/Jason Pebworth/Jo...</td>\n      <td>Let's go out and be wild Do it while we can (d...</td>\n    </tr>\n    <tr>\n      <th>63</th>\n      <td>913</td>\n      <td>sem nome</td>\n      <td>A vision of my nails in the kitchen Scratching...</td>\n    </tr>\n    <tr>\n      <th>92</th>\n      <td>979</td>\n      <td>sem nome</td>\n      <td>And I was just a kid I was always trying To do...</td>\n    </tr>\n    <tr>\n      <th>125</th>\n      <td>102</td>\n      <td>sem nome</td>\n      <td>It`s the best time of the year I don`t know if...</td>\n    </tr>\n    <tr>\n      <th>130</th>\n      <td>40</td>\n      <td>sem nome</td>\n      <td>Tale as old as time True as it can be Barely e...</td>\n    </tr>\n    <tr>\n      <th>164</th>\n      <td>600</td>\n      <td>sem nome</td>\n      <td>I gotta heart rush, ain’t slowin’ down I got i...</td>\n    </tr>\n    <tr>\n      <th>166</th>\n      <td>329</td>\n      <td>九九Lrc歌词网～www.99Lrc.net</td>\n      <td>That's my girl Who's been working so damn hard...</td>\n    </tr>\n    <tr>\n      <th>176</th>\n      <td>78</td>\n      <td>sem nome</td>\n      <td>Jingle bells swing and jingle bells ring Snowi...</td>\n    </tr>\n    <tr>\n      <th>229</th>\n      <td>151</td>\n      <td>Akira_Takeshi</td>\n      <td>I used to spend my nights out In a bar room Li...</td>\n    </tr>\n    <tr>\n      <th>244</th>\n      <td>858</td>\n      <td>Hhhhhhaaaa</td>\n      <td>There will be days When the sun won't shine Wh...</td>\n    </tr>\n    <tr>\n      <th>249</th>\n      <td>883</td>\n      <td>sem nome</td>\n      <td>让我们有请The Knocks 我带来了 名字叫做Wyclef的乐队 我们需要所有性感女士 ...</td>\n    </tr>\n    <tr>\n      <th>289</th>\n      <td>332</td>\n      <td>Dafne丶keen</td>\n      <td>Listen to the wind blow Watch the sun rise Run...</td>\n    </tr>\n    <tr>\n      <th>291</th>\n      <td>189</td>\n      <td>Bl_ues</td>\n      <td>Staring at two different views on your wind...</td>\n    </tr>\n    <tr>\n      <th>293</th>\n      <td>267</td>\n      <td>Trap_Girl</td>\n      <td>Ever hear some slow tracks You know what I'm s...</td>\n    </tr>\n    <tr>\n      <th>301</th>\n      <td>147</td>\n      <td>Chris Stapleton/Mike Henderson</td>\n      <td>Seen my share of broken halos  Folded wings th...</td>\n    </tr>\n    <tr>\n      <th>311</th>\n      <td>915</td>\n      <td>White</td>\n      <td>I'm gonna fight 'em off A seven nation army co...</td>\n    </tr>\n    <tr>\n      <th>316</th>\n      <td>459</td>\n      <td>Brian Wilson/Tony Asher</td>\n      <td>I may not always love you But as long as there...</td>\n    </tr>\n    <tr>\n      <th>336</th>\n      <td>149</td>\n      <td>稳稳的幸福惹</td>\n      <td>Honey load up your questions And pick up y...</td>\n    </tr>\n    <tr>\n      <th>338</th>\n      <td>614</td>\n      <td>CaryCheng</td>\n      <td>The Night We Met - Lord Huron Ohoo Ohoo O...</td>\n    </tr>\n    <tr>\n      <th>340</th>\n      <td>204</td>\n      <td>Rayna-M</td>\n      <td>I was the one who had it all I was the master ...</td>\n    </tr>\n    <tr>\n      <th>345</th>\n      <td>85</td>\n      <td>sem nome</td>\n      <td>At the Christmas party hop Mistletoe hung wher...</td>\n    </tr>\n    <tr>\n      <th>354</th>\n      <td>108</td>\n      <td>sem nome</td>\n      <td>Lightning strikes every time she moves And eve...</td>\n    </tr>\n    <tr>\n      <th>356</th>\n      <td>74</td>\n      <td>LaurenceJang</td>\n      <td>There's an echo pulling out the meaning Rescui...</td>\n    </tr>\n    <tr>\n      <th>367</th>\n      <td>759</td>\n      <td>PIKO</td>\n      <td>P P A P I have a pen I have an apple Uh apple ...</td>\n    </tr>\n    <tr>\n      <th>390</th>\n      <td>225</td>\n      <td>初级说唱翻译</td>\n      <td>Oh, oh, oh, oh I've been hurt so many times It...</td>\n    </tr>\n    <tr>\n      <th>397</th>\n      <td>170</td>\n      <td>工作婊</td>\n      <td>Come up to meet you, tell you I'm sorry You do...</td>\n    </tr>\n    <tr>\n      <th>407</th>\n      <td>507</td>\n      <td>哈里-斯泰尔斯</td>\n      <td>I know he hurt you Made you scared of love...</td>\n    </tr>\n    <tr>\n      <th>418</th>\n      <td>464</td>\n      <td>John Mayer</td>\n      <td>A great big bang and dinosaurs Fiery raining ...</td>\n    </tr>\n    <tr>\n      <th>419</th>\n      <td>21</td>\n      <td>Brian Wilson/Tony Asher</td>\n      <td>You were the shadow to my light Did you feel u...</td>\n    </tr>\n    <tr>\n      <th>425</th>\n      <td>236</td>\n      <td>初级说唱翻译</td>\n      <td>I'm runnin' but can't run away You say you cha...</td>\n    </tr>\n    <tr>\n      <th>426</th>\n      <td>310</td>\n      <td>工作婊</td>\n      <td>There's something sweet, and almost kind But h...</td>\n    </tr>\n    <tr>\n      <th>431</th>\n      <td>705</td>\n      <td>bill</td>\n      <td>Hey there Mr. Tin Man You don't know how lucky...</td>\n    </tr>\n    <tr>\n      <th>436</th>\n      <td>715</td>\n      <td>sem nome</td>\n      <td>I know that  I can count on you When that's no...</td>\n    </tr>\n    <tr>\n      <th>440</th>\n      <td>771</td>\n      <td>切换么事</td>\n      <td>I'm not a woman I'm not a man I am something t...</td>\n    </tr>\n    <tr>\n      <th>446</th>\n      <td>391</td>\n      <td>youRcHeer</td>\n      <td>Here come old flat top He come groovin' up sl...</td>\n    </tr>\n    <tr>\n      <th>457</th>\n      <td>148</td>\n      <td>Chris Stapleton/Kendall Marvel/Tim James</td>\n      <td>We pass in the hall  On our way to separate ro...</td>\n    </tr>\n    <tr>\n      <th>468</th>\n      <td>202</td>\n      <td>哈里-斯泰尔斯</td>\n      <td>I can honestly understand why it's over I...</td>\n    </tr>\n    <tr>\n      <th>474</th>\n      <td>779</td>\n      <td>sem nome</td>\n      <td>Couldn't look you in the eye You're just like ...</td>\n    </tr>\n    <tr>\n      <th>490</th>\n      <td>506</td>\n      <td>hondoes</td>\n      <td>I need a gangsta To love me better Than all th...</td>\n    </tr>\n    <tr>\n      <th>495</th>\n      <td>50</td>\n      <td>sem nome</td>\n      <td>Kick  It! You  wake  up  late  for  school  ma...</td>\n    </tr>\n    <tr>\n      <th>526</th>\n      <td>491</td>\n      <td>燃情蓝</td>\n      <td>Oh,father tell me, Do we get what we deserve O...</td>\n    </tr>\n    <tr>\n      <th>528</th>\n      <td>596</td>\n      <td>Lin-Manuel Miranda/Opetaia Foa'i</td>\n      <td>Tatou o tagata folau e vala’auina E le atua o ...</td>\n    </tr>\n    <tr>\n      <th>532</th>\n      <td>20</td>\n      <td>Al Jarreau</td>\n      <td>It's like a diamond ring It's a precious thing...</td>\n    </tr>\n    <tr>\n      <th>550</th>\n      <td>884</td>\n      <td>Wesley Schultz/Jeremy Fraites</td>\n      <td>Ah, ah, when I was younger I, I should've know...</td>\n    </tr>\n    <tr>\n      <th>578</th>\n      <td>996</td>\n      <td>miist</td>\n      <td>I'm facing the battle  Through all of my probl...</td>\n    </tr>\n    <tr>\n      <th>584</th>\n      <td>683</td>\n      <td>sem nome</td>\n      <td>Everywhere you go; Take a look at the five and...</td>\n    </tr>\n    <tr>\n      <th>587</th>\n      <td>192</td>\n      <td>sem nome</td>\n      <td>Turn down for what? Turn down for what? Turn d...</td>\n    </tr>\n    <tr>\n      <th>617</th>\n      <td>434</td>\n      <td>小陀螺Tony</td>\n      <td>I see the, I see the I see the, I see the I se...</td>\n    </tr>\n    <tr>\n      <th>618</th>\n      <td>660</td>\n      <td>HysHzz</td>\n      <td>I'm going on Nothing feels like home I'm s...</td>\n    </tr>\n    <tr>\n      <th>621</th>\n      <td>166</td>\n      <td>sem nome</td>\n      <td>Been rusting in the rubble Running to a faint ...</td>\n    </tr>\n    <tr>\n      <th>626</th>\n      <td>755</td>\n      <td>Paul McCartney</td>\n      <td>biang biang biang biang ~ ba ba ba ba bang ban...</td>\n    </tr>\n  </tbody>\n</table>\n</div>"
     },
     "execution_count": 185,
     "metadata": {},
     "output_type": "execute_result"
    }
   ],
   "source": [
    "#len(df[df.music_artist==\"sem nome\"])\n",
    "#df[(df.lyrics.str.len()>800)&(df.lyrics.str.len()<=1000)]\n",
    "df[(df.lyrics.str.len()<=1000)]"
   ],
   "metadata": {
    "collapsed": false,
    "pycharm": {
     "name": "#%%\n"
    }
   }
  },
  {
   "cell_type": "code",
   "execution_count": 187,
   "outputs": [],
   "source": [
    "df.to_csv(\"../data/processed/lyrics.csv\")"
   ],
   "metadata": {
    "collapsed": false,
    "pycharm": {
     "name": "#%%\n"
    }
   }
  },
  {
   "cell_type": "code",
   "execution_count": 207,
   "outputs": [
    {
     "data": {
      "text/plain": "  music_id                           music_artist  \\\n0      334                               sem nome   \n1      698                              Trap_Girl   \n2      350                                    工作婊   \n3      492  Kane Brown/Matt McGinn/Jordan Schmidt   \n4      311                             雪贤Seolhyun   \n\n                                              lyrics  \n0  It's my house, come on, turn it up Hear a knoc...  \n1  Tell me the price Tell me the price Tell me th...  \n2  These bitches want Nikes They looking for a ch...  \n3   You say what if I hurt you  What if I leave y...  \n4  Súbeme la radio Tra-tráeme el alcohol Súbeme l...  ",
      "text/html": "<div>\n<style scoped>\n    .dataframe tbody tr th:only-of-type {\n        vertical-align: middle;\n    }\n\n    .dataframe tbody tr th {\n        vertical-align: top;\n    }\n\n    .dataframe thead th {\n        text-align: right;\n    }\n</style>\n<table border=\"1\" class=\"dataframe\">\n  <thead>\n    <tr style=\"text-align: right;\">\n      <th></th>\n      <th>music_id</th>\n      <th>music_artist</th>\n      <th>lyrics</th>\n    </tr>\n  </thead>\n  <tbody>\n    <tr>\n      <th>0</th>\n      <td>334</td>\n      <td>sem nome</td>\n      <td>It's my house, come on, turn it up Hear a knoc...</td>\n    </tr>\n    <tr>\n      <th>1</th>\n      <td>698</td>\n      <td>Trap_Girl</td>\n      <td>Tell me the price Tell me the price Tell me th...</td>\n    </tr>\n    <tr>\n      <th>2</th>\n      <td>350</td>\n      <td>工作婊</td>\n      <td>These bitches want Nikes They looking for a ch...</td>\n    </tr>\n    <tr>\n      <th>3</th>\n      <td>492</td>\n      <td>Kane Brown/Matt McGinn/Jordan Schmidt</td>\n      <td>You say what if I hurt you  What if I leave y...</td>\n    </tr>\n    <tr>\n      <th>4</th>\n      <td>311</td>\n      <td>雪贤Seolhyun</td>\n      <td>Súbeme la radio Tra-tráeme el alcohol Súbeme l...</td>\n    </tr>\n  </tbody>\n</table>\n</div>"
     },
     "execution_count": 207,
     "metadata": {},
     "output_type": "execute_result"
    }
   ],
   "source": [
    "df.head()"
   ],
   "metadata": {
    "collapsed": false,
    "pycharm": {
     "name": "#%%\n"
    }
   }
  },
  {
   "cell_type": "code",
   "execution_count": 188,
   "outputs": [
    {
     "data": {
      "text/plain": "   musicId  audspec_lengthL1norm_sma_range  audspec_lengthL1norm_sma_maxPos  \\\n0        1                        7.318236                         0.716432   \n1        4                        6.558082                         0.703399   \n2        5                        8.152512                         0.368032   \n\n   audspec_lengthL1norm_sma_minPos  audspec_lengthL1norm_sma_quartile1  \\\n0                              0.0                            2.245124   \n1                              0.0                            1.606873   \n2                              0.0                            1.404577   \n\n   audspec_lengthL1norm_sma_quartile2  audspec_lengthL1norm_sma_quartile3  \\\n0                            3.145057                            3.956726   \n1                            2.116417                            2.917487   \n2                            1.969597                            2.666271   \n\n   audspec_lengthL1norm_sma_iqr1-2  audspec_lengthL1norm_sma_iqr2-3  \\\n0                         0.899933                         0.811669   \n1                         0.509543                         0.801071   \n2                         0.565020                         0.696674   \n\n   audspec_lengthL1norm_sma_iqr1-3  ...  mfcc_sma_de[14]_peakRangeAbs  \\\n0                         1.711601  ...                     10.694290   \n1                         1.310614  ...                      8.273178   \n2                         1.261694  ...                      9.705502   \n\n   mfcc_sma_de[14]_peakRangeRel  mfcc_sma_de[14]_peakMeanAbs  \\\n0                      0.552123                     2.884782   \n1                      0.535849                     2.659783   \n2                      0.598316                     2.422745   \n\n   mfcc_sma_de[14]_peakMeanMeanDist  mfcc_sma_de[14]_peakMeanRel  \\\n0                          2.886936                    -1339.063   \n1                          2.660821                    -2561.713   \n2                          2.421824                     2630.371   \n\n   mfcc_sma_de[14]_minRangeRel  mfcc_sma_de[14]_meanRisingSlope  \\\n0                     0.554930                         113.5535   \n1                     0.665665                         104.4877   \n2                     0.550189                         105.5406   \n\n   mfcc_sma_de[14]_stddevRisingSlope  mfcc_sma_de[14]_meanFallingSlope  \\\n0                           57.37954                          111.6133   \n1                           63.52283                          106.1832   \n2                           53.73272                          105.5167   \n\n   mfcc_sma_de[14]_stddevFallingSlope  \n0                            59.35901  \n1                            54.71746  \n2                            54.68540  \n\n[3 rows x 6374 columns]",
      "text/html": "<div>\n<style scoped>\n    .dataframe tbody tr th:only-of-type {\n        vertical-align: middle;\n    }\n\n    .dataframe tbody tr th {\n        vertical-align: top;\n    }\n\n    .dataframe thead th {\n        text-align: right;\n    }\n</style>\n<table border=\"1\" class=\"dataframe\">\n  <thead>\n    <tr style=\"text-align: right;\">\n      <th></th>\n      <th>musicId</th>\n      <th>audspec_lengthL1norm_sma_range</th>\n      <th>audspec_lengthL1norm_sma_maxPos</th>\n      <th>audspec_lengthL1norm_sma_minPos</th>\n      <th>audspec_lengthL1norm_sma_quartile1</th>\n      <th>audspec_lengthL1norm_sma_quartile2</th>\n      <th>audspec_lengthL1norm_sma_quartile3</th>\n      <th>audspec_lengthL1norm_sma_iqr1-2</th>\n      <th>audspec_lengthL1norm_sma_iqr2-3</th>\n      <th>audspec_lengthL1norm_sma_iqr1-3</th>\n      <th>...</th>\n      <th>mfcc_sma_de[14]_peakRangeAbs</th>\n      <th>mfcc_sma_de[14]_peakRangeRel</th>\n      <th>mfcc_sma_de[14]_peakMeanAbs</th>\n      <th>mfcc_sma_de[14]_peakMeanMeanDist</th>\n      <th>mfcc_sma_de[14]_peakMeanRel</th>\n      <th>mfcc_sma_de[14]_minRangeRel</th>\n      <th>mfcc_sma_de[14]_meanRisingSlope</th>\n      <th>mfcc_sma_de[14]_stddevRisingSlope</th>\n      <th>mfcc_sma_de[14]_meanFallingSlope</th>\n      <th>mfcc_sma_de[14]_stddevFallingSlope</th>\n    </tr>\n  </thead>\n  <tbody>\n    <tr>\n      <th>0</th>\n      <td>1</td>\n      <td>7.318236</td>\n      <td>0.716432</td>\n      <td>0.0</td>\n      <td>2.245124</td>\n      <td>3.145057</td>\n      <td>3.956726</td>\n      <td>0.899933</td>\n      <td>0.811669</td>\n      <td>1.711601</td>\n      <td>...</td>\n      <td>10.694290</td>\n      <td>0.552123</td>\n      <td>2.884782</td>\n      <td>2.886936</td>\n      <td>-1339.063</td>\n      <td>0.554930</td>\n      <td>113.5535</td>\n      <td>57.37954</td>\n      <td>111.6133</td>\n      <td>59.35901</td>\n    </tr>\n    <tr>\n      <th>1</th>\n      <td>4</td>\n      <td>6.558082</td>\n      <td>0.703399</td>\n      <td>0.0</td>\n      <td>1.606873</td>\n      <td>2.116417</td>\n      <td>2.917487</td>\n      <td>0.509543</td>\n      <td>0.801071</td>\n      <td>1.310614</td>\n      <td>...</td>\n      <td>8.273178</td>\n      <td>0.535849</td>\n      <td>2.659783</td>\n      <td>2.660821</td>\n      <td>-2561.713</td>\n      <td>0.665665</td>\n      <td>104.4877</td>\n      <td>63.52283</td>\n      <td>106.1832</td>\n      <td>54.71746</td>\n    </tr>\n    <tr>\n      <th>2</th>\n      <td>5</td>\n      <td>8.152512</td>\n      <td>0.368032</td>\n      <td>0.0</td>\n      <td>1.404577</td>\n      <td>1.969597</td>\n      <td>2.666271</td>\n      <td>0.565020</td>\n      <td>0.696674</td>\n      <td>1.261694</td>\n      <td>...</td>\n      <td>9.705502</td>\n      <td>0.598316</td>\n      <td>2.422745</td>\n      <td>2.421824</td>\n      <td>2630.371</td>\n      <td>0.550189</td>\n      <td>105.5406</td>\n      <td>53.73272</td>\n      <td>105.5167</td>\n      <td>54.68540</td>\n    </tr>\n  </tbody>\n</table>\n<p>3 rows × 6374 columns</p>\n</div>"
     },
     "execution_count": 188,
     "metadata": {},
     "output_type": "execute_result"
    }
   ],
   "source": [
    "static_features_df.head(3)"
   ],
   "metadata": {
    "collapsed": false,
    "pycharm": {
     "name": "#%%\n"
    }
   }
  },
  {
   "cell_type": "code",
   "execution_count": 190,
   "outputs": [
    {
     "data": {
      "text/plain": "['musicId',\n 'audspec_lengthL1norm_sma_range',\n 'audspec_lengthL1norm_sma_maxPos',\n 'audspec_lengthL1norm_sma_minPos',\n 'audspec_lengthL1norm_sma_quartile1',\n 'audspec_lengthL1norm_sma_quartile2',\n 'audspec_lengthL1norm_sma_quartile3',\n 'audspec_lengthL1norm_sma_iqr1-2',\n 'audspec_lengthL1norm_sma_iqr2-3',\n 'audspec_lengthL1norm_sma_iqr1-3',\n 'audspec_lengthL1norm_sma_percentile1.0',\n 'audspec_lengthL1norm_sma_percentile99.0',\n 'audspec_lengthL1norm_sma_pctlrange0-1',\n 'audspec_lengthL1norm_sma_stddev',\n 'audspec_lengthL1norm_sma_skewness',\n 'audspec_lengthL1norm_sma_kurtosis',\n 'audspec_lengthL1norm_sma_meanSegLen',\n 'audspec_lengthL1norm_sma_maxSegLen',\n 'audspec_lengthL1norm_sma_minSegLen',\n 'audspec_lengthL1norm_sma_segLenStddev',\n 'audspec_lengthL1norm_sma_upleveltime25',\n 'audspec_lengthL1norm_sma_upleveltime50',\n 'audspec_lengthL1norm_sma_upleveltime75',\n 'audspec_lengthL1norm_sma_upleveltime90',\n 'audspec_lengthL1norm_sma_risetime',\n 'audspec_lengthL1norm_sma_leftctime',\n 'audspec_lengthL1norm_sma_lpgain',\n 'audspec_lengthL1norm_sma_lpc0',\n 'audspec_lengthL1norm_sma_lpc1',\n 'audspec_lengthL1norm_sma_lpc2',\n 'audspec_lengthL1norm_sma_lpc3',\n 'audspec_lengthL1norm_sma_lpc4',\n 'audspecRasta_lengthL1norm_sma_range',\n 'audspecRasta_lengthL1norm_sma_maxPos',\n 'audspecRasta_lengthL1norm_sma_minPos',\n 'audspecRasta_lengthL1norm_sma_quartile1',\n 'audspecRasta_lengthL1norm_sma_quartile2',\n 'audspecRasta_lengthL1norm_sma_quartile3',\n 'audspecRasta_lengthL1norm_sma_iqr1-2',\n 'audspecRasta_lengthL1norm_sma_iqr2-3',\n 'audspecRasta_lengthL1norm_sma_iqr1-3',\n 'audspecRasta_lengthL1norm_sma_percentile1.0',\n 'audspecRasta_lengthL1norm_sma_percentile99.0',\n 'audspecRasta_lengthL1norm_sma_pctlrange0-1',\n 'audspecRasta_lengthL1norm_sma_stddev',\n 'audspecRasta_lengthL1norm_sma_skewness',\n 'audspecRasta_lengthL1norm_sma_kurtosis',\n 'audspecRasta_lengthL1norm_sma_meanSegLen',\n 'audspecRasta_lengthL1norm_sma_maxSegLen',\n 'audspecRasta_lengthL1norm_sma_minSegLen',\n 'audspecRasta_lengthL1norm_sma_segLenStddev',\n 'audspecRasta_lengthL1norm_sma_upleveltime25',\n 'audspecRasta_lengthL1norm_sma_upleveltime50',\n 'audspecRasta_lengthL1norm_sma_upleveltime75',\n 'audspecRasta_lengthL1norm_sma_upleveltime90',\n 'audspecRasta_lengthL1norm_sma_risetime',\n 'audspecRasta_lengthL1norm_sma_leftctime',\n 'audspecRasta_lengthL1norm_sma_lpgain',\n 'audspecRasta_lengthL1norm_sma_lpc0',\n 'audspecRasta_lengthL1norm_sma_lpc1',\n 'audspecRasta_lengthL1norm_sma_lpc2',\n 'audspecRasta_lengthL1norm_sma_lpc3',\n 'audspecRasta_lengthL1norm_sma_lpc4',\n 'pcm_RMSenergy_sma_range',\n 'pcm_RMSenergy_sma_maxPos',\n 'pcm_RMSenergy_sma_minPos',\n 'pcm_RMSenergy_sma_quartile1',\n 'pcm_RMSenergy_sma_quartile2',\n 'pcm_RMSenergy_sma_quartile3',\n 'pcm_RMSenergy_sma_iqr1-2',\n 'pcm_RMSenergy_sma_iqr2-3',\n 'pcm_RMSenergy_sma_iqr1-3',\n 'pcm_RMSenergy_sma_percentile1.0',\n 'pcm_RMSenergy_sma_percentile99.0',\n 'pcm_RMSenergy_sma_pctlrange0-1',\n 'pcm_RMSenergy_sma_stddev',\n 'pcm_RMSenergy_sma_skewness',\n 'pcm_RMSenergy_sma_kurtosis',\n 'pcm_RMSenergy_sma_meanSegLen',\n 'pcm_RMSenergy_sma_maxSegLen',\n 'pcm_RMSenergy_sma_minSegLen',\n 'pcm_RMSenergy_sma_segLenStddev',\n 'pcm_RMSenergy_sma_upleveltime25',\n 'pcm_RMSenergy_sma_upleveltime50',\n 'pcm_RMSenergy_sma_upleveltime75',\n 'pcm_RMSenergy_sma_upleveltime90',\n 'pcm_RMSenergy_sma_risetime',\n 'pcm_RMSenergy_sma_leftctime',\n 'pcm_RMSenergy_sma_lpgain',\n 'pcm_RMSenergy_sma_lpc0',\n 'pcm_RMSenergy_sma_lpc1',\n 'pcm_RMSenergy_sma_lpc2',\n 'pcm_RMSenergy_sma_lpc3',\n 'pcm_RMSenergy_sma_lpc4',\n 'pcm_zcr_sma_range',\n 'pcm_zcr_sma_maxPos',\n 'pcm_zcr_sma_minPos',\n 'pcm_zcr_sma_quartile1',\n 'pcm_zcr_sma_quartile2',\n 'pcm_zcr_sma_quartile3',\n 'pcm_zcr_sma_iqr1-2',\n 'pcm_zcr_sma_iqr2-3',\n 'pcm_zcr_sma_iqr1-3',\n 'pcm_zcr_sma_percentile1.0',\n 'pcm_zcr_sma_percentile99.0',\n 'pcm_zcr_sma_pctlrange0-1',\n 'pcm_zcr_sma_stddev',\n 'pcm_zcr_sma_skewness',\n 'pcm_zcr_sma_kurtosis',\n 'pcm_zcr_sma_meanSegLen',\n 'pcm_zcr_sma_maxSegLen',\n 'pcm_zcr_sma_minSegLen',\n 'pcm_zcr_sma_segLenStddev',\n 'pcm_zcr_sma_upleveltime25',\n 'pcm_zcr_sma_upleveltime50',\n 'pcm_zcr_sma_upleveltime75',\n 'pcm_zcr_sma_upleveltime90',\n 'pcm_zcr_sma_risetime',\n 'pcm_zcr_sma_leftctime',\n 'pcm_zcr_sma_lpgain',\n 'pcm_zcr_sma_lpc0',\n 'pcm_zcr_sma_lpc1',\n 'pcm_zcr_sma_lpc2',\n 'pcm_zcr_sma_lpc3',\n 'pcm_zcr_sma_lpc4',\n 'audspec_lengthL1norm_sma_de_range',\n 'audspec_lengthL1norm_sma_de_maxPos',\n 'audspec_lengthL1norm_sma_de_minPos',\n 'audspec_lengthL1norm_sma_de_quartile1',\n 'audspec_lengthL1norm_sma_de_quartile2',\n 'audspec_lengthL1norm_sma_de_quartile3',\n 'audspec_lengthL1norm_sma_de_iqr1-2',\n 'audspec_lengthL1norm_sma_de_iqr2-3',\n 'audspec_lengthL1norm_sma_de_iqr1-3',\n 'audspec_lengthL1norm_sma_de_percentile1.0',\n 'audspec_lengthL1norm_sma_de_percentile99.0',\n 'audspec_lengthL1norm_sma_de_pctlrange0-1',\n 'audspec_lengthL1norm_sma_de_stddev',\n 'audspec_lengthL1norm_sma_de_skewness',\n 'audspec_lengthL1norm_sma_de_kurtosis',\n 'audspec_lengthL1norm_sma_de_meanSegLen',\n 'audspec_lengthL1norm_sma_de_maxSegLen',\n 'audspec_lengthL1norm_sma_de_minSegLen',\n 'audspec_lengthL1norm_sma_de_segLenStddev',\n 'audspec_lengthL1norm_sma_de_upleveltime25',\n 'audspec_lengthL1norm_sma_de_upleveltime50',\n 'audspec_lengthL1norm_sma_de_upleveltime75',\n 'audspec_lengthL1norm_sma_de_upleveltime90',\n 'audspec_lengthL1norm_sma_de_risetime',\n 'audspec_lengthL1norm_sma_de_leftctime',\n 'audspec_lengthL1norm_sma_de_lpgain',\n 'audspec_lengthL1norm_sma_de_lpc0',\n 'audspec_lengthL1norm_sma_de_lpc1',\n 'audspec_lengthL1norm_sma_de_lpc2',\n 'audspec_lengthL1norm_sma_de_lpc3',\n 'audspec_lengthL1norm_sma_de_lpc4',\n 'audspecRasta_lengthL1norm_sma_de_range',\n 'audspecRasta_lengthL1norm_sma_de_maxPos',\n 'audspecRasta_lengthL1norm_sma_de_minPos',\n 'audspecRasta_lengthL1norm_sma_de_quartile1',\n 'audspecRasta_lengthL1norm_sma_de_quartile2',\n 'audspecRasta_lengthL1norm_sma_de_quartile3',\n 'audspecRasta_lengthL1norm_sma_de_iqr1-2',\n 'audspecRasta_lengthL1norm_sma_de_iqr2-3',\n 'audspecRasta_lengthL1norm_sma_de_iqr1-3',\n 'audspecRasta_lengthL1norm_sma_de_percentile1.0',\n 'audspecRasta_lengthL1norm_sma_de_percentile99.0',\n 'audspecRasta_lengthL1norm_sma_de_pctlrange0-1',\n 'audspecRasta_lengthL1norm_sma_de_stddev',\n 'audspecRasta_lengthL1norm_sma_de_skewness',\n 'audspecRasta_lengthL1norm_sma_de_kurtosis',\n 'audspecRasta_lengthL1norm_sma_de_meanSegLen',\n 'audspecRasta_lengthL1norm_sma_de_maxSegLen',\n 'audspecRasta_lengthL1norm_sma_de_minSegLen',\n 'audspecRasta_lengthL1norm_sma_de_segLenStddev',\n 'audspecRasta_lengthL1norm_sma_de_upleveltime25',\n 'audspecRasta_lengthL1norm_sma_de_upleveltime50',\n 'audspecRasta_lengthL1norm_sma_de_upleveltime75',\n 'audspecRasta_lengthL1norm_sma_de_upleveltime90',\n 'audspecRasta_lengthL1norm_sma_de_risetime',\n 'audspecRasta_lengthL1norm_sma_de_leftctime',\n 'audspecRasta_lengthL1norm_sma_de_lpgain',\n 'audspecRasta_lengthL1norm_sma_de_lpc0',\n 'audspecRasta_lengthL1norm_sma_de_lpc1',\n 'audspecRasta_lengthL1norm_sma_de_lpc2',\n 'audspecRasta_lengthL1norm_sma_de_lpc3',\n 'audspecRasta_lengthL1norm_sma_de_lpc4',\n 'pcm_RMSenergy_sma_de_range',\n 'pcm_RMSenergy_sma_de_maxPos',\n 'pcm_RMSenergy_sma_de_minPos',\n 'pcm_RMSenergy_sma_de_quartile1',\n 'pcm_RMSenergy_sma_de_quartile2',\n 'pcm_RMSenergy_sma_de_quartile3',\n 'pcm_RMSenergy_sma_de_iqr1-2',\n 'pcm_RMSenergy_sma_de_iqr2-3',\n 'pcm_RMSenergy_sma_de_iqr1-3',\n 'pcm_RMSenergy_sma_de_percentile1.0',\n 'pcm_RMSenergy_sma_de_percentile99.0',\n 'pcm_RMSenergy_sma_de_pctlrange0-1',\n 'pcm_RMSenergy_sma_de_stddev',\n 'pcm_RMSenergy_sma_de_skewness',\n 'pcm_RMSenergy_sma_de_kurtosis',\n 'pcm_RMSenergy_sma_de_meanSegLen',\n 'pcm_RMSenergy_sma_de_maxSegLen',\n 'pcm_RMSenergy_sma_de_minSegLen',\n 'pcm_RMSenergy_sma_de_segLenStddev',\n 'pcm_RMSenergy_sma_de_upleveltime25',\n 'pcm_RMSenergy_sma_de_upleveltime50',\n 'pcm_RMSenergy_sma_de_upleveltime75',\n 'pcm_RMSenergy_sma_de_upleveltime90',\n 'pcm_RMSenergy_sma_de_risetime',\n 'pcm_RMSenergy_sma_de_leftctime',\n 'pcm_RMSenergy_sma_de_lpgain',\n 'pcm_RMSenergy_sma_de_lpc0',\n 'pcm_RMSenergy_sma_de_lpc1',\n 'pcm_RMSenergy_sma_de_lpc2',\n 'pcm_RMSenergy_sma_de_lpc3',\n 'pcm_RMSenergy_sma_de_lpc4',\n 'pcm_zcr_sma_de_range',\n 'pcm_zcr_sma_de_maxPos',\n 'pcm_zcr_sma_de_minPos',\n 'pcm_zcr_sma_de_quartile1',\n 'pcm_zcr_sma_de_quartile2',\n 'pcm_zcr_sma_de_quartile3',\n 'pcm_zcr_sma_de_iqr1-2',\n 'pcm_zcr_sma_de_iqr2-3',\n 'pcm_zcr_sma_de_iqr1-3',\n 'pcm_zcr_sma_de_percentile1.0',\n 'pcm_zcr_sma_de_percentile99.0',\n 'pcm_zcr_sma_de_pctlrange0-1',\n 'pcm_zcr_sma_de_stddev',\n 'pcm_zcr_sma_de_skewness',\n 'pcm_zcr_sma_de_kurtosis',\n 'pcm_zcr_sma_de_meanSegLen',\n 'pcm_zcr_sma_de_maxSegLen',\n 'pcm_zcr_sma_de_minSegLen',\n 'pcm_zcr_sma_de_segLenStddev',\n 'pcm_zcr_sma_de_upleveltime25',\n 'pcm_zcr_sma_de_upleveltime50',\n 'pcm_zcr_sma_de_upleveltime75',\n 'pcm_zcr_sma_de_upleveltime90',\n 'pcm_zcr_sma_de_risetime',\n 'pcm_zcr_sma_de_leftctime',\n 'pcm_zcr_sma_de_lpgain',\n 'pcm_zcr_sma_de_lpc0',\n 'pcm_zcr_sma_de_lpc1',\n 'pcm_zcr_sma_de_lpc2',\n 'pcm_zcr_sma_de_lpc3',\n 'pcm_zcr_sma_de_lpc4',\n 'audSpec_Rfilt_sma[0]_range',\n 'audSpec_Rfilt_sma[0]_maxPos',\n 'audSpec_Rfilt_sma[0]_minPos',\n 'audSpec_Rfilt_sma[0]_quartile1',\n 'audSpec_Rfilt_sma[0]_quartile2',\n 'audSpec_Rfilt_sma[0]_quartile3',\n 'audSpec_Rfilt_sma[0]_iqr1-2',\n 'audSpec_Rfilt_sma[0]_iqr2-3',\n 'audSpec_Rfilt_sma[0]_iqr1-3',\n 'audSpec_Rfilt_sma[0]_percentile1.0',\n 'audSpec_Rfilt_sma[0]_percentile99.0',\n 'audSpec_Rfilt_sma[0]_pctlrange0-1',\n 'audSpec_Rfilt_sma[0]_stddev',\n 'audSpec_Rfilt_sma[0]_skewness',\n 'audSpec_Rfilt_sma[0]_kurtosis',\n 'audSpec_Rfilt_sma[0]_meanSegLen',\n 'audSpec_Rfilt_sma[0]_maxSegLen',\n 'audSpec_Rfilt_sma[0]_minSegLen',\n 'audSpec_Rfilt_sma[0]_segLenStddev',\n 'audSpec_Rfilt_sma[0]_upleveltime25',\n 'audSpec_Rfilt_sma[0]_upleveltime50',\n 'audSpec_Rfilt_sma[0]_upleveltime75',\n 'audSpec_Rfilt_sma[0]_upleveltime90',\n 'audSpec_Rfilt_sma[0]_risetime',\n 'audSpec_Rfilt_sma[0]_leftctime',\n 'audSpec_Rfilt_sma[0]_lpgain',\n 'audSpec_Rfilt_sma[0]_lpc0',\n 'audSpec_Rfilt_sma[0]_lpc1',\n 'audSpec_Rfilt_sma[0]_lpc2',\n 'audSpec_Rfilt_sma[0]_lpc3',\n 'audSpec_Rfilt_sma[0]_lpc4',\n 'audSpec_Rfilt_sma[1]_range',\n 'audSpec_Rfilt_sma[1]_maxPos',\n 'audSpec_Rfilt_sma[1]_minPos',\n 'audSpec_Rfilt_sma[1]_quartile1',\n 'audSpec_Rfilt_sma[1]_quartile2',\n 'audSpec_Rfilt_sma[1]_quartile3',\n 'audSpec_Rfilt_sma[1]_iqr1-2',\n 'audSpec_Rfilt_sma[1]_iqr2-3',\n 'audSpec_Rfilt_sma[1]_iqr1-3',\n 'audSpec_Rfilt_sma[1]_percentile1.0',\n 'audSpec_Rfilt_sma[1]_percentile99.0',\n 'audSpec_Rfilt_sma[1]_pctlrange0-1',\n 'audSpec_Rfilt_sma[1]_stddev',\n 'audSpec_Rfilt_sma[1]_skewness',\n 'audSpec_Rfilt_sma[1]_kurtosis',\n 'audSpec_Rfilt_sma[1]_meanSegLen',\n 'audSpec_Rfilt_sma[1]_maxSegLen',\n 'audSpec_Rfilt_sma[1]_minSegLen',\n 'audSpec_Rfilt_sma[1]_segLenStddev',\n 'audSpec_Rfilt_sma[1]_upleveltime25',\n 'audSpec_Rfilt_sma[1]_upleveltime50',\n 'audSpec_Rfilt_sma[1]_upleveltime75',\n 'audSpec_Rfilt_sma[1]_upleveltime90',\n 'audSpec_Rfilt_sma[1]_risetime',\n 'audSpec_Rfilt_sma[1]_leftctime',\n 'audSpec_Rfilt_sma[1]_lpgain',\n 'audSpec_Rfilt_sma[1]_lpc0',\n 'audSpec_Rfilt_sma[1]_lpc1',\n 'audSpec_Rfilt_sma[1]_lpc2',\n 'audSpec_Rfilt_sma[1]_lpc3',\n 'audSpec_Rfilt_sma[1]_lpc4',\n 'audSpec_Rfilt_sma[2]_range',\n 'audSpec_Rfilt_sma[2]_maxPos',\n 'audSpec_Rfilt_sma[2]_minPos',\n 'audSpec_Rfilt_sma[2]_quartile1',\n 'audSpec_Rfilt_sma[2]_quartile2',\n 'audSpec_Rfilt_sma[2]_quartile3',\n 'audSpec_Rfilt_sma[2]_iqr1-2',\n 'audSpec_Rfilt_sma[2]_iqr2-3',\n 'audSpec_Rfilt_sma[2]_iqr1-3',\n 'audSpec_Rfilt_sma[2]_percentile1.0',\n 'audSpec_Rfilt_sma[2]_percentile99.0',\n 'audSpec_Rfilt_sma[2]_pctlrange0-1',\n 'audSpec_Rfilt_sma[2]_stddev',\n 'audSpec_Rfilt_sma[2]_skewness',\n 'audSpec_Rfilt_sma[2]_kurtosis',\n 'audSpec_Rfilt_sma[2]_meanSegLen',\n 'audSpec_Rfilt_sma[2]_maxSegLen',\n 'audSpec_Rfilt_sma[2]_minSegLen',\n 'audSpec_Rfilt_sma[2]_segLenStddev',\n 'audSpec_Rfilt_sma[2]_upleveltime25',\n 'audSpec_Rfilt_sma[2]_upleveltime50',\n 'audSpec_Rfilt_sma[2]_upleveltime75',\n 'audSpec_Rfilt_sma[2]_upleveltime90',\n 'audSpec_Rfilt_sma[2]_risetime',\n 'audSpec_Rfilt_sma[2]_leftctime',\n 'audSpec_Rfilt_sma[2]_lpgain',\n 'audSpec_Rfilt_sma[2]_lpc0',\n 'audSpec_Rfilt_sma[2]_lpc1',\n 'audSpec_Rfilt_sma[2]_lpc2',\n 'audSpec_Rfilt_sma[2]_lpc3',\n 'audSpec_Rfilt_sma[2]_lpc4',\n 'audSpec_Rfilt_sma[3]_range',\n 'audSpec_Rfilt_sma[3]_maxPos',\n 'audSpec_Rfilt_sma[3]_minPos',\n 'audSpec_Rfilt_sma[3]_quartile1',\n 'audSpec_Rfilt_sma[3]_quartile2',\n 'audSpec_Rfilt_sma[3]_quartile3',\n 'audSpec_Rfilt_sma[3]_iqr1-2',\n 'audSpec_Rfilt_sma[3]_iqr2-3',\n 'audSpec_Rfilt_sma[3]_iqr1-3',\n 'audSpec_Rfilt_sma[3]_percentile1.0',\n 'audSpec_Rfilt_sma[3]_percentile99.0',\n 'audSpec_Rfilt_sma[3]_pctlrange0-1',\n 'audSpec_Rfilt_sma[3]_stddev',\n 'audSpec_Rfilt_sma[3]_skewness',\n 'audSpec_Rfilt_sma[3]_kurtosis',\n 'audSpec_Rfilt_sma[3]_meanSegLen',\n 'audSpec_Rfilt_sma[3]_maxSegLen',\n 'audSpec_Rfilt_sma[3]_minSegLen',\n 'audSpec_Rfilt_sma[3]_segLenStddev',\n 'audSpec_Rfilt_sma[3]_upleveltime25',\n 'audSpec_Rfilt_sma[3]_upleveltime50',\n 'audSpec_Rfilt_sma[3]_upleveltime75',\n 'audSpec_Rfilt_sma[3]_upleveltime90',\n 'audSpec_Rfilt_sma[3]_risetime',\n 'audSpec_Rfilt_sma[3]_leftctime',\n 'audSpec_Rfilt_sma[3]_lpgain',\n 'audSpec_Rfilt_sma[3]_lpc0',\n 'audSpec_Rfilt_sma[3]_lpc1',\n 'audSpec_Rfilt_sma[3]_lpc2',\n 'audSpec_Rfilt_sma[3]_lpc3',\n 'audSpec_Rfilt_sma[3]_lpc4',\n 'audSpec_Rfilt_sma[4]_range',\n 'audSpec_Rfilt_sma[4]_maxPos',\n 'audSpec_Rfilt_sma[4]_minPos',\n 'audSpec_Rfilt_sma[4]_quartile1',\n 'audSpec_Rfilt_sma[4]_quartile2',\n 'audSpec_Rfilt_sma[4]_quartile3',\n 'audSpec_Rfilt_sma[4]_iqr1-2',\n 'audSpec_Rfilt_sma[4]_iqr2-3',\n 'audSpec_Rfilt_sma[4]_iqr1-3',\n 'audSpec_Rfilt_sma[4]_percentile1.0',\n 'audSpec_Rfilt_sma[4]_percentile99.0',\n 'audSpec_Rfilt_sma[4]_pctlrange0-1',\n 'audSpec_Rfilt_sma[4]_stddev',\n 'audSpec_Rfilt_sma[4]_skewness',\n 'audSpec_Rfilt_sma[4]_kurtosis',\n 'audSpec_Rfilt_sma[4]_meanSegLen',\n 'audSpec_Rfilt_sma[4]_maxSegLen',\n 'audSpec_Rfilt_sma[4]_minSegLen',\n 'audSpec_Rfilt_sma[4]_segLenStddev',\n 'audSpec_Rfilt_sma[4]_upleveltime25',\n 'audSpec_Rfilt_sma[4]_upleveltime50',\n 'audSpec_Rfilt_sma[4]_upleveltime75',\n 'audSpec_Rfilt_sma[4]_upleveltime90',\n 'audSpec_Rfilt_sma[4]_risetime',\n 'audSpec_Rfilt_sma[4]_leftctime',\n 'audSpec_Rfilt_sma[4]_lpgain',\n 'audSpec_Rfilt_sma[4]_lpc0',\n 'audSpec_Rfilt_sma[4]_lpc1',\n 'audSpec_Rfilt_sma[4]_lpc2',\n 'audSpec_Rfilt_sma[4]_lpc3',\n 'audSpec_Rfilt_sma[4]_lpc4',\n 'audSpec_Rfilt_sma[5]_range',\n 'audSpec_Rfilt_sma[5]_maxPos',\n 'audSpec_Rfilt_sma[5]_minPos',\n 'audSpec_Rfilt_sma[5]_quartile1',\n 'audSpec_Rfilt_sma[5]_quartile2',\n 'audSpec_Rfilt_sma[5]_quartile3',\n 'audSpec_Rfilt_sma[5]_iqr1-2',\n 'audSpec_Rfilt_sma[5]_iqr2-3',\n 'audSpec_Rfilt_sma[5]_iqr1-3',\n 'audSpec_Rfilt_sma[5]_percentile1.0',\n 'audSpec_Rfilt_sma[5]_percentile99.0',\n 'audSpec_Rfilt_sma[5]_pctlrange0-1',\n 'audSpec_Rfilt_sma[5]_stddev',\n 'audSpec_Rfilt_sma[5]_skewness',\n 'audSpec_Rfilt_sma[5]_kurtosis',\n 'audSpec_Rfilt_sma[5]_meanSegLen',\n 'audSpec_Rfilt_sma[5]_maxSegLen',\n 'audSpec_Rfilt_sma[5]_minSegLen',\n 'audSpec_Rfilt_sma[5]_segLenStddev',\n 'audSpec_Rfilt_sma[5]_upleveltime25',\n 'audSpec_Rfilt_sma[5]_upleveltime50',\n 'audSpec_Rfilt_sma[5]_upleveltime75',\n 'audSpec_Rfilt_sma[5]_upleveltime90',\n 'audSpec_Rfilt_sma[5]_risetime',\n 'audSpec_Rfilt_sma[5]_leftctime',\n 'audSpec_Rfilt_sma[5]_lpgain',\n 'audSpec_Rfilt_sma[5]_lpc0',\n 'audSpec_Rfilt_sma[5]_lpc1',\n 'audSpec_Rfilt_sma[5]_lpc2',\n 'audSpec_Rfilt_sma[5]_lpc3',\n 'audSpec_Rfilt_sma[5]_lpc4',\n 'audSpec_Rfilt_sma[6]_range',\n 'audSpec_Rfilt_sma[6]_maxPos',\n 'audSpec_Rfilt_sma[6]_minPos',\n 'audSpec_Rfilt_sma[6]_quartile1',\n 'audSpec_Rfilt_sma[6]_quartile2',\n 'audSpec_Rfilt_sma[6]_quartile3',\n 'audSpec_Rfilt_sma[6]_iqr1-2',\n 'audSpec_Rfilt_sma[6]_iqr2-3',\n 'audSpec_Rfilt_sma[6]_iqr1-3',\n 'audSpec_Rfilt_sma[6]_percentile1.0',\n 'audSpec_Rfilt_sma[6]_percentile99.0',\n 'audSpec_Rfilt_sma[6]_pctlrange0-1',\n 'audSpec_Rfilt_sma[6]_stddev',\n 'audSpec_Rfilt_sma[6]_skewness',\n 'audSpec_Rfilt_sma[6]_kurtosis',\n 'audSpec_Rfilt_sma[6]_meanSegLen',\n 'audSpec_Rfilt_sma[6]_maxSegLen',\n 'audSpec_Rfilt_sma[6]_minSegLen',\n 'audSpec_Rfilt_sma[6]_segLenStddev',\n 'audSpec_Rfilt_sma[6]_upleveltime25',\n 'audSpec_Rfilt_sma[6]_upleveltime50',\n 'audSpec_Rfilt_sma[6]_upleveltime75',\n 'audSpec_Rfilt_sma[6]_upleveltime90',\n 'audSpec_Rfilt_sma[6]_risetime',\n 'audSpec_Rfilt_sma[6]_leftctime',\n 'audSpec_Rfilt_sma[6]_lpgain',\n 'audSpec_Rfilt_sma[6]_lpc0',\n 'audSpec_Rfilt_sma[6]_lpc1',\n 'audSpec_Rfilt_sma[6]_lpc2',\n 'audSpec_Rfilt_sma[6]_lpc3',\n 'audSpec_Rfilt_sma[6]_lpc4',\n 'audSpec_Rfilt_sma[7]_range',\n 'audSpec_Rfilt_sma[7]_maxPos',\n 'audSpec_Rfilt_sma[7]_minPos',\n 'audSpec_Rfilt_sma[7]_quartile1',\n 'audSpec_Rfilt_sma[7]_quartile2',\n 'audSpec_Rfilt_sma[7]_quartile3',\n 'audSpec_Rfilt_sma[7]_iqr1-2',\n 'audSpec_Rfilt_sma[7]_iqr2-3',\n 'audSpec_Rfilt_sma[7]_iqr1-3',\n 'audSpec_Rfilt_sma[7]_percentile1.0',\n 'audSpec_Rfilt_sma[7]_percentile99.0',\n 'audSpec_Rfilt_sma[7]_pctlrange0-1',\n 'audSpec_Rfilt_sma[7]_stddev',\n 'audSpec_Rfilt_sma[7]_skewness',\n 'audSpec_Rfilt_sma[7]_kurtosis',\n 'audSpec_Rfilt_sma[7]_meanSegLen',\n 'audSpec_Rfilt_sma[7]_maxSegLen',\n 'audSpec_Rfilt_sma[7]_minSegLen',\n 'audSpec_Rfilt_sma[7]_segLenStddev',\n 'audSpec_Rfilt_sma[7]_upleveltime25',\n 'audSpec_Rfilt_sma[7]_upleveltime50',\n 'audSpec_Rfilt_sma[7]_upleveltime75',\n 'audSpec_Rfilt_sma[7]_upleveltime90',\n 'audSpec_Rfilt_sma[7]_risetime',\n 'audSpec_Rfilt_sma[7]_leftctime',\n 'audSpec_Rfilt_sma[7]_lpgain',\n 'audSpec_Rfilt_sma[7]_lpc0',\n 'audSpec_Rfilt_sma[7]_lpc1',\n 'audSpec_Rfilt_sma[7]_lpc2',\n 'audSpec_Rfilt_sma[7]_lpc3',\n 'audSpec_Rfilt_sma[7]_lpc4',\n 'audSpec_Rfilt_sma[8]_range',\n 'audSpec_Rfilt_sma[8]_maxPos',\n 'audSpec_Rfilt_sma[8]_minPos',\n 'audSpec_Rfilt_sma[8]_quartile1',\n 'audSpec_Rfilt_sma[8]_quartile2',\n 'audSpec_Rfilt_sma[8]_quartile3',\n 'audSpec_Rfilt_sma[8]_iqr1-2',\n 'audSpec_Rfilt_sma[8]_iqr2-3',\n 'audSpec_Rfilt_sma[8]_iqr1-3',\n 'audSpec_Rfilt_sma[8]_percentile1.0',\n 'audSpec_Rfilt_sma[8]_percentile99.0',\n 'audSpec_Rfilt_sma[8]_pctlrange0-1',\n 'audSpec_Rfilt_sma[8]_stddev',\n 'audSpec_Rfilt_sma[8]_skewness',\n 'audSpec_Rfilt_sma[8]_kurtosis',\n 'audSpec_Rfilt_sma[8]_meanSegLen',\n 'audSpec_Rfilt_sma[8]_maxSegLen',\n 'audSpec_Rfilt_sma[8]_minSegLen',\n 'audSpec_Rfilt_sma[8]_segLenStddev',\n 'audSpec_Rfilt_sma[8]_upleveltime25',\n 'audSpec_Rfilt_sma[8]_upleveltime50',\n 'audSpec_Rfilt_sma[8]_upleveltime75',\n 'audSpec_Rfilt_sma[8]_upleveltime90',\n 'audSpec_Rfilt_sma[8]_risetime',\n 'audSpec_Rfilt_sma[8]_leftctime',\n 'audSpec_Rfilt_sma[8]_lpgain',\n 'audSpec_Rfilt_sma[8]_lpc0',\n 'audSpec_Rfilt_sma[8]_lpc1',\n 'audSpec_Rfilt_sma[8]_lpc2',\n 'audSpec_Rfilt_sma[8]_lpc3',\n 'audSpec_Rfilt_sma[8]_lpc4',\n 'audSpec_Rfilt_sma[9]_range',\n 'audSpec_Rfilt_sma[9]_maxPos',\n 'audSpec_Rfilt_sma[9]_minPos',\n 'audSpec_Rfilt_sma[9]_quartile1',\n 'audSpec_Rfilt_sma[9]_quartile2',\n 'audSpec_Rfilt_sma[9]_quartile3',\n 'audSpec_Rfilt_sma[9]_iqr1-2',\n 'audSpec_Rfilt_sma[9]_iqr2-3',\n 'audSpec_Rfilt_sma[9]_iqr1-3',\n 'audSpec_Rfilt_sma[9]_percentile1.0',\n 'audSpec_Rfilt_sma[9]_percentile99.0',\n 'audSpec_Rfilt_sma[9]_pctlrange0-1',\n 'audSpec_Rfilt_sma[9]_stddev',\n 'audSpec_Rfilt_sma[9]_skewness',\n 'audSpec_Rfilt_sma[9]_kurtosis',\n 'audSpec_Rfilt_sma[9]_meanSegLen',\n 'audSpec_Rfilt_sma[9]_maxSegLen',\n 'audSpec_Rfilt_sma[9]_minSegLen',\n 'audSpec_Rfilt_sma[9]_segLenStddev',\n 'audSpec_Rfilt_sma[9]_upleveltime25',\n 'audSpec_Rfilt_sma[9]_upleveltime50',\n 'audSpec_Rfilt_sma[9]_upleveltime75',\n 'audSpec_Rfilt_sma[9]_upleveltime90',\n 'audSpec_Rfilt_sma[9]_risetime',\n 'audSpec_Rfilt_sma[9]_leftctime',\n 'audSpec_Rfilt_sma[9]_lpgain',\n 'audSpec_Rfilt_sma[9]_lpc0',\n 'audSpec_Rfilt_sma[9]_lpc1',\n 'audSpec_Rfilt_sma[9]_lpc2',\n 'audSpec_Rfilt_sma[9]_lpc3',\n 'audSpec_Rfilt_sma[9]_lpc4',\n 'audSpec_Rfilt_sma[10]_range',\n 'audSpec_Rfilt_sma[10]_maxPos',\n 'audSpec_Rfilt_sma[10]_minPos',\n 'audSpec_Rfilt_sma[10]_quartile1',\n 'audSpec_Rfilt_sma[10]_quartile2',\n 'audSpec_Rfilt_sma[10]_quartile3',\n 'audSpec_Rfilt_sma[10]_iqr1-2',\n 'audSpec_Rfilt_sma[10]_iqr2-3',\n 'audSpec_Rfilt_sma[10]_iqr1-3',\n 'audSpec_Rfilt_sma[10]_percentile1.0',\n 'audSpec_Rfilt_sma[10]_percentile99.0',\n 'audSpec_Rfilt_sma[10]_pctlrange0-1',\n 'audSpec_Rfilt_sma[10]_stddev',\n 'audSpec_Rfilt_sma[10]_skewness',\n 'audSpec_Rfilt_sma[10]_kurtosis',\n 'audSpec_Rfilt_sma[10]_meanSegLen',\n 'audSpec_Rfilt_sma[10]_maxSegLen',\n 'audSpec_Rfilt_sma[10]_minSegLen',\n 'audSpec_Rfilt_sma[10]_segLenStddev',\n 'audSpec_Rfilt_sma[10]_upleveltime25',\n 'audSpec_Rfilt_sma[10]_upleveltime50',\n 'audSpec_Rfilt_sma[10]_upleveltime75',\n 'audSpec_Rfilt_sma[10]_upleveltime90',\n 'audSpec_Rfilt_sma[10]_risetime',\n 'audSpec_Rfilt_sma[10]_leftctime',\n 'audSpec_Rfilt_sma[10]_lpgain',\n 'audSpec_Rfilt_sma[10]_lpc0',\n 'audSpec_Rfilt_sma[10]_lpc1',\n 'audSpec_Rfilt_sma[10]_lpc2',\n 'audSpec_Rfilt_sma[10]_lpc3',\n 'audSpec_Rfilt_sma[10]_lpc4',\n 'audSpec_Rfilt_sma[11]_range',\n 'audSpec_Rfilt_sma[11]_maxPos',\n 'audSpec_Rfilt_sma[11]_minPos',\n 'audSpec_Rfilt_sma[11]_quartile1',\n 'audSpec_Rfilt_sma[11]_quartile2',\n 'audSpec_Rfilt_sma[11]_quartile3',\n 'audSpec_Rfilt_sma[11]_iqr1-2',\n 'audSpec_Rfilt_sma[11]_iqr2-3',\n 'audSpec_Rfilt_sma[11]_iqr1-3',\n 'audSpec_Rfilt_sma[11]_percentile1.0',\n 'audSpec_Rfilt_sma[11]_percentile99.0',\n 'audSpec_Rfilt_sma[11]_pctlrange0-1',\n 'audSpec_Rfilt_sma[11]_stddev',\n 'audSpec_Rfilt_sma[11]_skewness',\n 'audSpec_Rfilt_sma[11]_kurtosis',\n 'audSpec_Rfilt_sma[11]_meanSegLen',\n 'audSpec_Rfilt_sma[11]_maxSegLen',\n 'audSpec_Rfilt_sma[11]_minSegLen',\n 'audSpec_Rfilt_sma[11]_segLenStddev',\n 'audSpec_Rfilt_sma[11]_upleveltime25',\n 'audSpec_Rfilt_sma[11]_upleveltime50',\n 'audSpec_Rfilt_sma[11]_upleveltime75',\n 'audSpec_Rfilt_sma[11]_upleveltime90',\n 'audSpec_Rfilt_sma[11]_risetime',\n 'audSpec_Rfilt_sma[11]_leftctime',\n 'audSpec_Rfilt_sma[11]_lpgain',\n 'audSpec_Rfilt_sma[11]_lpc0',\n 'audSpec_Rfilt_sma[11]_lpc1',\n 'audSpec_Rfilt_sma[11]_lpc2',\n 'audSpec_Rfilt_sma[11]_lpc3',\n 'audSpec_Rfilt_sma[11]_lpc4',\n 'audSpec_Rfilt_sma[12]_range',\n 'audSpec_Rfilt_sma[12]_maxPos',\n 'audSpec_Rfilt_sma[12]_minPos',\n 'audSpec_Rfilt_sma[12]_quartile1',\n 'audSpec_Rfilt_sma[12]_quartile2',\n 'audSpec_Rfilt_sma[12]_quartile3',\n 'audSpec_Rfilt_sma[12]_iqr1-2',\n 'audSpec_Rfilt_sma[12]_iqr2-3',\n 'audSpec_Rfilt_sma[12]_iqr1-3',\n 'audSpec_Rfilt_sma[12]_percentile1.0',\n 'audSpec_Rfilt_sma[12]_percentile99.0',\n 'audSpec_Rfilt_sma[12]_pctlrange0-1',\n 'audSpec_Rfilt_sma[12]_stddev',\n 'audSpec_Rfilt_sma[12]_skewness',\n 'audSpec_Rfilt_sma[12]_kurtosis',\n 'audSpec_Rfilt_sma[12]_meanSegLen',\n 'audSpec_Rfilt_sma[12]_maxSegLen',\n 'audSpec_Rfilt_sma[12]_minSegLen',\n 'audSpec_Rfilt_sma[12]_segLenStddev',\n 'audSpec_Rfilt_sma[12]_upleveltime25',\n 'audSpec_Rfilt_sma[12]_upleveltime50',\n 'audSpec_Rfilt_sma[12]_upleveltime75',\n 'audSpec_Rfilt_sma[12]_upleveltime90',\n 'audSpec_Rfilt_sma[12]_risetime',\n 'audSpec_Rfilt_sma[12]_leftctime',\n 'audSpec_Rfilt_sma[12]_lpgain',\n 'audSpec_Rfilt_sma[12]_lpc0',\n 'audSpec_Rfilt_sma[12]_lpc1',\n 'audSpec_Rfilt_sma[12]_lpc2',\n 'audSpec_Rfilt_sma[12]_lpc3',\n 'audSpec_Rfilt_sma[12]_lpc4',\n 'audSpec_Rfilt_sma[13]_range',\n 'audSpec_Rfilt_sma[13]_maxPos',\n 'audSpec_Rfilt_sma[13]_minPos',\n 'audSpec_Rfilt_sma[13]_quartile1',\n 'audSpec_Rfilt_sma[13]_quartile2',\n 'audSpec_Rfilt_sma[13]_quartile3',\n 'audSpec_Rfilt_sma[13]_iqr1-2',\n 'audSpec_Rfilt_sma[13]_iqr2-3',\n 'audSpec_Rfilt_sma[13]_iqr1-3',\n 'audSpec_Rfilt_sma[13]_percentile1.0',\n 'audSpec_Rfilt_sma[13]_percentile99.0',\n 'audSpec_Rfilt_sma[13]_pctlrange0-1',\n 'audSpec_Rfilt_sma[13]_stddev',\n 'audSpec_Rfilt_sma[13]_skewness',\n 'audSpec_Rfilt_sma[13]_kurtosis',\n 'audSpec_Rfilt_sma[13]_meanSegLen',\n 'audSpec_Rfilt_sma[13]_maxSegLen',\n 'audSpec_Rfilt_sma[13]_minSegLen',\n 'audSpec_Rfilt_sma[13]_segLenStddev',\n 'audSpec_Rfilt_sma[13]_upleveltime25',\n 'audSpec_Rfilt_sma[13]_upleveltime50',\n 'audSpec_Rfilt_sma[13]_upleveltime75',\n 'audSpec_Rfilt_sma[13]_upleveltime90',\n 'audSpec_Rfilt_sma[13]_risetime',\n 'audSpec_Rfilt_sma[13]_leftctime',\n 'audSpec_Rfilt_sma[13]_lpgain',\n 'audSpec_Rfilt_sma[13]_lpc0',\n 'audSpec_Rfilt_sma[13]_lpc1',\n 'audSpec_Rfilt_sma[13]_lpc2',\n 'audSpec_Rfilt_sma[13]_lpc3',\n 'audSpec_Rfilt_sma[13]_lpc4',\n 'audSpec_Rfilt_sma[14]_range',\n 'audSpec_Rfilt_sma[14]_maxPos',\n 'audSpec_Rfilt_sma[14]_minPos',\n 'audSpec_Rfilt_sma[14]_quartile1',\n 'audSpec_Rfilt_sma[14]_quartile2',\n 'audSpec_Rfilt_sma[14]_quartile3',\n 'audSpec_Rfilt_sma[14]_iqr1-2',\n 'audSpec_Rfilt_sma[14]_iqr2-3',\n 'audSpec_Rfilt_sma[14]_iqr1-3',\n 'audSpec_Rfilt_sma[14]_percentile1.0',\n 'audSpec_Rfilt_sma[14]_percentile99.0',\n 'audSpec_Rfilt_sma[14]_pctlrange0-1',\n 'audSpec_Rfilt_sma[14]_stddev',\n 'audSpec_Rfilt_sma[14]_skewness',\n 'audSpec_Rfilt_sma[14]_kurtosis',\n 'audSpec_Rfilt_sma[14]_meanSegLen',\n 'audSpec_Rfilt_sma[14]_maxSegLen',\n 'audSpec_Rfilt_sma[14]_minSegLen',\n 'audSpec_Rfilt_sma[14]_segLenStddev',\n 'audSpec_Rfilt_sma[14]_upleveltime25',\n 'audSpec_Rfilt_sma[14]_upleveltime50',\n 'audSpec_Rfilt_sma[14]_upleveltime75',\n 'audSpec_Rfilt_sma[14]_upleveltime90',\n 'audSpec_Rfilt_sma[14]_risetime',\n 'audSpec_Rfilt_sma[14]_leftctime',\n 'audSpec_Rfilt_sma[14]_lpgain',\n 'audSpec_Rfilt_sma[14]_lpc0',\n 'audSpec_Rfilt_sma[14]_lpc1',\n 'audSpec_Rfilt_sma[14]_lpc2',\n 'audSpec_Rfilt_sma[14]_lpc3',\n 'audSpec_Rfilt_sma[14]_lpc4',\n 'audSpec_Rfilt_sma[15]_range',\n 'audSpec_Rfilt_sma[15]_maxPos',\n 'audSpec_Rfilt_sma[15]_minPos',\n 'audSpec_Rfilt_sma[15]_quartile1',\n 'audSpec_Rfilt_sma[15]_quartile2',\n 'audSpec_Rfilt_sma[15]_quartile3',\n 'audSpec_Rfilt_sma[15]_iqr1-2',\n 'audSpec_Rfilt_sma[15]_iqr2-3',\n 'audSpec_Rfilt_sma[15]_iqr1-3',\n 'audSpec_Rfilt_sma[15]_percentile1.0',\n 'audSpec_Rfilt_sma[15]_percentile99.0',\n 'audSpec_Rfilt_sma[15]_pctlrange0-1',\n 'audSpec_Rfilt_sma[15]_stddev',\n 'audSpec_Rfilt_sma[15]_skewness',\n 'audSpec_Rfilt_sma[15]_kurtosis',\n 'audSpec_Rfilt_sma[15]_meanSegLen',\n 'audSpec_Rfilt_sma[15]_maxSegLen',\n 'audSpec_Rfilt_sma[15]_minSegLen',\n 'audSpec_Rfilt_sma[15]_segLenStddev',\n 'audSpec_Rfilt_sma[15]_upleveltime25',\n 'audSpec_Rfilt_sma[15]_upleveltime50',\n 'audSpec_Rfilt_sma[15]_upleveltime75',\n 'audSpec_Rfilt_sma[15]_upleveltime90',\n 'audSpec_Rfilt_sma[15]_risetime',\n 'audSpec_Rfilt_sma[15]_leftctime',\n 'audSpec_Rfilt_sma[15]_lpgain',\n 'audSpec_Rfilt_sma[15]_lpc0',\n 'audSpec_Rfilt_sma[15]_lpc1',\n 'audSpec_Rfilt_sma[15]_lpc2',\n 'audSpec_Rfilt_sma[15]_lpc3',\n 'audSpec_Rfilt_sma[15]_lpc4',\n 'audSpec_Rfilt_sma[16]_range',\n 'audSpec_Rfilt_sma[16]_maxPos',\n 'audSpec_Rfilt_sma[16]_minPos',\n 'audSpec_Rfilt_sma[16]_quartile1',\n 'audSpec_Rfilt_sma[16]_quartile2',\n 'audSpec_Rfilt_sma[16]_quartile3',\n 'audSpec_Rfilt_sma[16]_iqr1-2',\n 'audSpec_Rfilt_sma[16]_iqr2-3',\n 'audSpec_Rfilt_sma[16]_iqr1-3',\n 'audSpec_Rfilt_sma[16]_percentile1.0',\n 'audSpec_Rfilt_sma[16]_percentile99.0',\n 'audSpec_Rfilt_sma[16]_pctlrange0-1',\n 'audSpec_Rfilt_sma[16]_stddev',\n 'audSpec_Rfilt_sma[16]_skewness',\n 'audSpec_Rfilt_sma[16]_kurtosis',\n 'audSpec_Rfilt_sma[16]_meanSegLen',\n 'audSpec_Rfilt_sma[16]_maxSegLen',\n 'audSpec_Rfilt_sma[16]_minSegLen',\n 'audSpec_Rfilt_sma[16]_segLenStddev',\n 'audSpec_Rfilt_sma[16]_upleveltime25',\n 'audSpec_Rfilt_sma[16]_upleveltime50',\n 'audSpec_Rfilt_sma[16]_upleveltime75',\n 'audSpec_Rfilt_sma[16]_upleveltime90',\n 'audSpec_Rfilt_sma[16]_risetime',\n 'audSpec_Rfilt_sma[16]_leftctime',\n 'audSpec_Rfilt_sma[16]_lpgain',\n 'audSpec_Rfilt_sma[16]_lpc0',\n 'audSpec_Rfilt_sma[16]_lpc1',\n 'audSpec_Rfilt_sma[16]_lpc2',\n 'audSpec_Rfilt_sma[16]_lpc3',\n 'audSpec_Rfilt_sma[16]_lpc4',\n 'audSpec_Rfilt_sma[17]_range',\n 'audSpec_Rfilt_sma[17]_maxPos',\n 'audSpec_Rfilt_sma[17]_minPos',\n 'audSpec_Rfilt_sma[17]_quartile1',\n 'audSpec_Rfilt_sma[17]_quartile2',\n 'audSpec_Rfilt_sma[17]_quartile3',\n 'audSpec_Rfilt_sma[17]_iqr1-2',\n 'audSpec_Rfilt_sma[17]_iqr2-3',\n 'audSpec_Rfilt_sma[17]_iqr1-3',\n 'audSpec_Rfilt_sma[17]_percentile1.0',\n 'audSpec_Rfilt_sma[17]_percentile99.0',\n 'audSpec_Rfilt_sma[17]_pctlrange0-1',\n 'audSpec_Rfilt_sma[17]_stddev',\n 'audSpec_Rfilt_sma[17]_skewness',\n 'audSpec_Rfilt_sma[17]_kurtosis',\n 'audSpec_Rfilt_sma[17]_meanSegLen',\n 'audSpec_Rfilt_sma[17]_maxSegLen',\n 'audSpec_Rfilt_sma[17]_minSegLen',\n 'audSpec_Rfilt_sma[17]_segLenStddev',\n 'audSpec_Rfilt_sma[17]_upleveltime25',\n 'audSpec_Rfilt_sma[17]_upleveltime50',\n 'audSpec_Rfilt_sma[17]_upleveltime75',\n 'audSpec_Rfilt_sma[17]_upleveltime90',\n 'audSpec_Rfilt_sma[17]_risetime',\n 'audSpec_Rfilt_sma[17]_leftctime',\n 'audSpec_Rfilt_sma[17]_lpgain',\n 'audSpec_Rfilt_sma[17]_lpc0',\n 'audSpec_Rfilt_sma[17]_lpc1',\n 'audSpec_Rfilt_sma[17]_lpc2',\n 'audSpec_Rfilt_sma[17]_lpc3',\n 'audSpec_Rfilt_sma[17]_lpc4',\n 'audSpec_Rfilt_sma[18]_range',\n 'audSpec_Rfilt_sma[18]_maxPos',\n 'audSpec_Rfilt_sma[18]_minPos',\n 'audSpec_Rfilt_sma[18]_quartile1',\n 'audSpec_Rfilt_sma[18]_quartile2',\n 'audSpec_Rfilt_sma[18]_quartile3',\n 'audSpec_Rfilt_sma[18]_iqr1-2',\n 'audSpec_Rfilt_sma[18]_iqr2-3',\n 'audSpec_Rfilt_sma[18]_iqr1-3',\n 'audSpec_Rfilt_sma[18]_percentile1.0',\n 'audSpec_Rfilt_sma[18]_percentile99.0',\n 'audSpec_Rfilt_sma[18]_pctlrange0-1',\n 'audSpec_Rfilt_sma[18]_stddev',\n 'audSpec_Rfilt_sma[18]_skewness',\n 'audSpec_Rfilt_sma[18]_kurtosis',\n 'audSpec_Rfilt_sma[18]_meanSegLen',\n 'audSpec_Rfilt_sma[18]_maxSegLen',\n 'audSpec_Rfilt_sma[18]_minSegLen',\n 'audSpec_Rfilt_sma[18]_segLenStddev',\n 'audSpec_Rfilt_sma[18]_upleveltime25',\n 'audSpec_Rfilt_sma[18]_upleveltime50',\n 'audSpec_Rfilt_sma[18]_upleveltime75',\n 'audSpec_Rfilt_sma[18]_upleveltime90',\n 'audSpec_Rfilt_sma[18]_risetime',\n 'audSpec_Rfilt_sma[18]_leftctime',\n 'audSpec_Rfilt_sma[18]_lpgain',\n 'audSpec_Rfilt_sma[18]_lpc0',\n 'audSpec_Rfilt_sma[18]_lpc1',\n 'audSpec_Rfilt_sma[18]_lpc2',\n 'audSpec_Rfilt_sma[18]_lpc3',\n 'audSpec_Rfilt_sma[18]_lpc4',\n 'audSpec_Rfilt_sma[19]_range',\n 'audSpec_Rfilt_sma[19]_maxPos',\n 'audSpec_Rfilt_sma[19]_minPos',\n 'audSpec_Rfilt_sma[19]_quartile1',\n 'audSpec_Rfilt_sma[19]_quartile2',\n 'audSpec_Rfilt_sma[19]_quartile3',\n 'audSpec_Rfilt_sma[19]_iqr1-2',\n 'audSpec_Rfilt_sma[19]_iqr2-3',\n 'audSpec_Rfilt_sma[19]_iqr1-3',\n 'audSpec_Rfilt_sma[19]_percentile1.0',\n 'audSpec_Rfilt_sma[19]_percentile99.0',\n 'audSpec_Rfilt_sma[19]_pctlrange0-1',\n 'audSpec_Rfilt_sma[19]_stddev',\n 'audSpec_Rfilt_sma[19]_skewness',\n 'audSpec_Rfilt_sma[19]_kurtosis',\n 'audSpec_Rfilt_sma[19]_meanSegLen',\n 'audSpec_Rfilt_sma[19]_maxSegLen',\n 'audSpec_Rfilt_sma[19]_minSegLen',\n 'audSpec_Rfilt_sma[19]_segLenStddev',\n 'audSpec_Rfilt_sma[19]_upleveltime25',\n 'audSpec_Rfilt_sma[19]_upleveltime50',\n 'audSpec_Rfilt_sma[19]_upleveltime75',\n 'audSpec_Rfilt_sma[19]_upleveltime90',\n 'audSpec_Rfilt_sma[19]_risetime',\n 'audSpec_Rfilt_sma[19]_leftctime',\n 'audSpec_Rfilt_sma[19]_lpgain',\n 'audSpec_Rfilt_sma[19]_lpc0',\n 'audSpec_Rfilt_sma[19]_lpc1',\n 'audSpec_Rfilt_sma[19]_lpc2',\n 'audSpec_Rfilt_sma[19]_lpc3',\n 'audSpec_Rfilt_sma[19]_lpc4',\n 'audSpec_Rfilt_sma[20]_range',\n 'audSpec_Rfilt_sma[20]_maxPos',\n 'audSpec_Rfilt_sma[20]_minPos',\n 'audSpec_Rfilt_sma[20]_quartile1',\n 'audSpec_Rfilt_sma[20]_quartile2',\n 'audSpec_Rfilt_sma[20]_quartile3',\n 'audSpec_Rfilt_sma[20]_iqr1-2',\n 'audSpec_Rfilt_sma[20]_iqr2-3',\n 'audSpec_Rfilt_sma[20]_iqr1-3',\n 'audSpec_Rfilt_sma[20]_percentile1.0',\n 'audSpec_Rfilt_sma[20]_percentile99.0',\n 'audSpec_Rfilt_sma[20]_pctlrange0-1',\n 'audSpec_Rfilt_sma[20]_stddev',\n 'audSpec_Rfilt_sma[20]_skewness',\n 'audSpec_Rfilt_sma[20]_kurtosis',\n 'audSpec_Rfilt_sma[20]_meanSegLen',\n 'audSpec_Rfilt_sma[20]_maxSegLen',\n 'audSpec_Rfilt_sma[20]_minSegLen',\n 'audSpec_Rfilt_sma[20]_segLenStddev',\n 'audSpec_Rfilt_sma[20]_upleveltime25',\n 'audSpec_Rfilt_sma[20]_upleveltime50',\n 'audSpec_Rfilt_sma[20]_upleveltime75',\n 'audSpec_Rfilt_sma[20]_upleveltime90',\n 'audSpec_Rfilt_sma[20]_risetime',\n 'audSpec_Rfilt_sma[20]_leftctime',\n 'audSpec_Rfilt_sma[20]_lpgain',\n 'audSpec_Rfilt_sma[20]_lpc0',\n 'audSpec_Rfilt_sma[20]_lpc1',\n 'audSpec_Rfilt_sma[20]_lpc2',\n 'audSpec_Rfilt_sma[20]_lpc3',\n 'audSpec_Rfilt_sma[20]_lpc4',\n 'audSpec_Rfilt_sma[21]_range',\n 'audSpec_Rfilt_sma[21]_maxPos',\n 'audSpec_Rfilt_sma[21]_minPos',\n 'audSpec_Rfilt_sma[21]_quartile1',\n 'audSpec_Rfilt_sma[21]_quartile2',\n 'audSpec_Rfilt_sma[21]_quartile3',\n 'audSpec_Rfilt_sma[21]_iqr1-2',\n 'audSpec_Rfilt_sma[21]_iqr2-3',\n 'audSpec_Rfilt_sma[21]_iqr1-3',\n 'audSpec_Rfilt_sma[21]_percentile1.0',\n 'audSpec_Rfilt_sma[21]_percentile99.0',\n 'audSpec_Rfilt_sma[21]_pctlrange0-1',\n 'audSpec_Rfilt_sma[21]_stddev',\n 'audSpec_Rfilt_sma[21]_skewness',\n 'audSpec_Rfilt_sma[21]_kurtosis',\n 'audSpec_Rfilt_sma[21]_meanSegLen',\n 'audSpec_Rfilt_sma[21]_maxSegLen',\n 'audSpec_Rfilt_sma[21]_minSegLen',\n 'audSpec_Rfilt_sma[21]_segLenStddev',\n 'audSpec_Rfilt_sma[21]_upleveltime25',\n 'audSpec_Rfilt_sma[21]_upleveltime50',\n 'audSpec_Rfilt_sma[21]_upleveltime75',\n 'audSpec_Rfilt_sma[21]_upleveltime90',\n 'audSpec_Rfilt_sma[21]_risetime',\n 'audSpec_Rfilt_sma[21]_leftctime',\n 'audSpec_Rfilt_sma[21]_lpgain',\n 'audSpec_Rfilt_sma[21]_lpc0',\n 'audSpec_Rfilt_sma[21]_lpc1',\n 'audSpec_Rfilt_sma[21]_lpc2',\n 'audSpec_Rfilt_sma[21]_lpc3',\n 'audSpec_Rfilt_sma[21]_lpc4',\n 'audSpec_Rfilt_sma[22]_range',\n 'audSpec_Rfilt_sma[22]_maxPos',\n 'audSpec_Rfilt_sma[22]_minPos',\n 'audSpec_Rfilt_sma[22]_quartile1',\n 'audSpec_Rfilt_sma[22]_quartile2',\n 'audSpec_Rfilt_sma[22]_quartile3',\n 'audSpec_Rfilt_sma[22]_iqr1-2',\n 'audSpec_Rfilt_sma[22]_iqr2-3',\n 'audSpec_Rfilt_sma[22]_iqr1-3',\n 'audSpec_Rfilt_sma[22]_percentile1.0',\n 'audSpec_Rfilt_sma[22]_percentile99.0',\n 'audSpec_Rfilt_sma[22]_pctlrange0-1',\n 'audSpec_Rfilt_sma[22]_stddev',\n 'audSpec_Rfilt_sma[22]_skewness',\n 'audSpec_Rfilt_sma[22]_kurtosis',\n 'audSpec_Rfilt_sma[22]_meanSegLen',\n 'audSpec_Rfilt_sma[22]_maxSegLen',\n 'audSpec_Rfilt_sma[22]_minSegLen',\n 'audSpec_Rfilt_sma[22]_segLenStddev',\n 'audSpec_Rfilt_sma[22]_upleveltime25',\n 'audSpec_Rfilt_sma[22]_upleveltime50',\n 'audSpec_Rfilt_sma[22]_upleveltime75',\n 'audSpec_Rfilt_sma[22]_upleveltime90',\n 'audSpec_Rfilt_sma[22]_risetime',\n 'audSpec_Rfilt_sma[22]_leftctime',\n 'audSpec_Rfilt_sma[22]_lpgain',\n 'audSpec_Rfilt_sma[22]_lpc0',\n 'audSpec_Rfilt_sma[22]_lpc1',\n 'audSpec_Rfilt_sma[22]_lpc2',\n 'audSpec_Rfilt_sma[22]_lpc3',\n 'audSpec_Rfilt_sma[22]_lpc4',\n 'audSpec_Rfilt_sma[23]_range',\n 'audSpec_Rfilt_sma[23]_maxPos',\n 'audSpec_Rfilt_sma[23]_minPos',\n 'audSpec_Rfilt_sma[23]_quartile1',\n 'audSpec_Rfilt_sma[23]_quartile2',\n 'audSpec_Rfilt_sma[23]_quartile3',\n 'audSpec_Rfilt_sma[23]_iqr1-2',\n 'audSpec_Rfilt_sma[23]_iqr2-3',\n 'audSpec_Rfilt_sma[23]_iqr1-3',\n 'audSpec_Rfilt_sma[23]_percentile1.0',\n 'audSpec_Rfilt_sma[23]_percentile99.0',\n 'audSpec_Rfilt_sma[23]_pctlrange0-1',\n 'audSpec_Rfilt_sma[23]_stddev',\n 'audSpec_Rfilt_sma[23]_skewness',\n 'audSpec_Rfilt_sma[23]_kurtosis',\n 'audSpec_Rfilt_sma[23]_meanSegLen',\n 'audSpec_Rfilt_sma[23]_maxSegLen',\n 'audSpec_Rfilt_sma[23]_minSegLen',\n 'audSpec_Rfilt_sma[23]_segLenStddev',\n 'audSpec_Rfilt_sma[23]_upleveltime25',\n 'audSpec_Rfilt_sma[23]_upleveltime50',\n 'audSpec_Rfilt_sma[23]_upleveltime75',\n 'audSpec_Rfilt_sma[23]_upleveltime90',\n 'audSpec_Rfilt_sma[23]_risetime',\n 'audSpec_Rfilt_sma[23]_leftctime',\n 'audSpec_Rfilt_sma[23]_lpgain',\n 'audSpec_Rfilt_sma[23]_lpc0',\n 'audSpec_Rfilt_sma[23]_lpc1',\n 'audSpec_Rfilt_sma[23]_lpc2',\n 'audSpec_Rfilt_sma[23]_lpc3',\n 'audSpec_Rfilt_sma[23]_lpc4',\n 'audSpec_Rfilt_sma[24]_range',\n 'audSpec_Rfilt_sma[24]_maxPos',\n 'audSpec_Rfilt_sma[24]_minPos',\n 'audSpec_Rfilt_sma[24]_quartile1',\n 'audSpec_Rfilt_sma[24]_quartile2',\n 'audSpec_Rfilt_sma[24]_quartile3',\n 'audSpec_Rfilt_sma[24]_iqr1-2',\n ...]"
     },
     "execution_count": 190,
     "metadata": {},
     "output_type": "execute_result"
    }
   ],
   "source": [
    "static_features_df.columns.tolist()"
   ],
   "metadata": {
    "collapsed": false,
    "pycharm": {
     "name": "#%%\n"
    }
   }
  },
  {
   "cell_type": "code",
   "execution_count": 199,
   "outputs": [
    {
     "data": {
      "text/plain": "   musicId  audspec_lengthL1norm_sma_range  audspec_lengthL1norm_sma_maxPos  \\\n0        1                        7.318236                         0.716432   \n1        4                        6.558082                         0.703399   \n2        5                        8.152512                         0.368032   \n3        6                        8.527122                         0.281728   \n4        7                        7.756963                         0.958923   \n\n   audspec_lengthL1norm_sma_minPos  audspec_lengthL1norm_sma_quartile1  \\\n0                              0.0                            2.245124   \n1                              0.0                            1.606873   \n2                              0.0                            1.404577   \n3                              0.0                            2.106767   \n4                              0.0                            3.683783   \n\n   audspec_lengthL1norm_sma_quartile2  audspec_lengthL1norm_sma_quartile3  \\\n0                            3.145057                            3.956726   \n1                            2.116417                            2.917487   \n2                            1.969597                            2.666271   \n3                            3.345879                            4.250905   \n4                            4.581017                            5.297434   \n\n   audspec_lengthL1norm_sma_iqr1-2  audspec_lengthL1norm_sma_iqr2-3  \\\n0                         0.899933                         0.811669   \n1                         0.509543                         0.801071   \n2                         0.565020                         0.696674   \n3                         1.239112                         0.905025   \n4                         0.897234                         0.716417   \n\n   audspec_lengthL1norm_sma_iqr1-3  ...  mfcc_sma_de[14]_peakRangeAbs  \\\n0                         1.711601  ...                     10.694290   \n1                         1.310614  ...                      8.273178   \n2                         1.261694  ...                      9.705502   \n3                         2.144137  ...                      7.689778   \n4                         1.613651  ...                      8.710414   \n\n   mfcc_sma_de[14]_peakRangeRel  mfcc_sma_de[14]_peakMeanAbs  \\\n0                      0.552123                     2.884782   \n1                      0.535849                     2.659783   \n2                      0.598316                     2.422745   \n3                      0.575360                     2.224280   \n4                      0.560565                     2.219199   \n\n   mfcc_sma_de[14]_peakMeanMeanDist  mfcc_sma_de[14]_peakMeanRel  \\\n0                          2.886936                   -1339.0630   \n1                          2.660821                   -2561.7130   \n2                          2.421824                    2630.3710   \n3                          2.224137                   15484.8700   \n4                          2.227387                    -271.0219   \n\n   mfcc_sma_de[14]_minRangeRel  mfcc_sma_de[14]_meanRisingSlope  \\\n0                     0.554930                        113.55350   \n1                     0.665665                        104.48770   \n2                     0.550189                        105.54060   \n3                     0.580155                         98.76061   \n4                     0.536837                         96.05625   \n\n   mfcc_sma_de[14]_stddevRisingSlope  mfcc_sma_de[14]_meanFallingSlope  \\\n0                           57.37954                         111.61330   \n1                           63.52283                         106.18320   \n2                           53.73272                         105.51670   \n3                           49.21307                         101.23990   \n4                           51.72694                          95.41311   \n\n   mfcc_sma_de[14]_stddevFallingSlope  \n0                            59.35901  \n1                            54.71746  \n2                            54.68540  \n3                            49.36958  \n4                            53.10697  \n\n[5 rows x 6374 columns]",
      "text/html": "<div>\n<style scoped>\n    .dataframe tbody tr th:only-of-type {\n        vertical-align: middle;\n    }\n\n    .dataframe tbody tr th {\n        vertical-align: top;\n    }\n\n    .dataframe thead th {\n        text-align: right;\n    }\n</style>\n<table border=\"1\" class=\"dataframe\">\n  <thead>\n    <tr style=\"text-align: right;\">\n      <th></th>\n      <th>musicId</th>\n      <th>audspec_lengthL1norm_sma_range</th>\n      <th>audspec_lengthL1norm_sma_maxPos</th>\n      <th>audspec_lengthL1norm_sma_minPos</th>\n      <th>audspec_lengthL1norm_sma_quartile1</th>\n      <th>audspec_lengthL1norm_sma_quartile2</th>\n      <th>audspec_lengthL1norm_sma_quartile3</th>\n      <th>audspec_lengthL1norm_sma_iqr1-2</th>\n      <th>audspec_lengthL1norm_sma_iqr2-3</th>\n      <th>audspec_lengthL1norm_sma_iqr1-3</th>\n      <th>...</th>\n      <th>mfcc_sma_de[14]_peakRangeAbs</th>\n      <th>mfcc_sma_de[14]_peakRangeRel</th>\n      <th>mfcc_sma_de[14]_peakMeanAbs</th>\n      <th>mfcc_sma_de[14]_peakMeanMeanDist</th>\n      <th>mfcc_sma_de[14]_peakMeanRel</th>\n      <th>mfcc_sma_de[14]_minRangeRel</th>\n      <th>mfcc_sma_de[14]_meanRisingSlope</th>\n      <th>mfcc_sma_de[14]_stddevRisingSlope</th>\n      <th>mfcc_sma_de[14]_meanFallingSlope</th>\n      <th>mfcc_sma_de[14]_stddevFallingSlope</th>\n    </tr>\n  </thead>\n  <tbody>\n    <tr>\n      <th>0</th>\n      <td>1</td>\n      <td>7.318236</td>\n      <td>0.716432</td>\n      <td>0.0</td>\n      <td>2.245124</td>\n      <td>3.145057</td>\n      <td>3.956726</td>\n      <td>0.899933</td>\n      <td>0.811669</td>\n      <td>1.711601</td>\n      <td>...</td>\n      <td>10.694290</td>\n      <td>0.552123</td>\n      <td>2.884782</td>\n      <td>2.886936</td>\n      <td>-1339.0630</td>\n      <td>0.554930</td>\n      <td>113.55350</td>\n      <td>57.37954</td>\n      <td>111.61330</td>\n      <td>59.35901</td>\n    </tr>\n    <tr>\n      <th>1</th>\n      <td>4</td>\n      <td>6.558082</td>\n      <td>0.703399</td>\n      <td>0.0</td>\n      <td>1.606873</td>\n      <td>2.116417</td>\n      <td>2.917487</td>\n      <td>0.509543</td>\n      <td>0.801071</td>\n      <td>1.310614</td>\n      <td>...</td>\n      <td>8.273178</td>\n      <td>0.535849</td>\n      <td>2.659783</td>\n      <td>2.660821</td>\n      <td>-2561.7130</td>\n      <td>0.665665</td>\n      <td>104.48770</td>\n      <td>63.52283</td>\n      <td>106.18320</td>\n      <td>54.71746</td>\n    </tr>\n    <tr>\n      <th>2</th>\n      <td>5</td>\n      <td>8.152512</td>\n      <td>0.368032</td>\n      <td>0.0</td>\n      <td>1.404577</td>\n      <td>1.969597</td>\n      <td>2.666271</td>\n      <td>0.565020</td>\n      <td>0.696674</td>\n      <td>1.261694</td>\n      <td>...</td>\n      <td>9.705502</td>\n      <td>0.598316</td>\n      <td>2.422745</td>\n      <td>2.421824</td>\n      <td>2630.3710</td>\n      <td>0.550189</td>\n      <td>105.54060</td>\n      <td>53.73272</td>\n      <td>105.51670</td>\n      <td>54.68540</td>\n    </tr>\n    <tr>\n      <th>3</th>\n      <td>6</td>\n      <td>8.527122</td>\n      <td>0.281728</td>\n      <td>0.0</td>\n      <td>2.106767</td>\n      <td>3.345879</td>\n      <td>4.250905</td>\n      <td>1.239112</td>\n      <td>0.905025</td>\n      <td>2.144137</td>\n      <td>...</td>\n      <td>7.689778</td>\n      <td>0.575360</td>\n      <td>2.224280</td>\n      <td>2.224137</td>\n      <td>15484.8700</td>\n      <td>0.580155</td>\n      <td>98.76061</td>\n      <td>49.21307</td>\n      <td>101.23990</td>\n      <td>49.36958</td>\n    </tr>\n    <tr>\n      <th>4</th>\n      <td>7</td>\n      <td>7.756963</td>\n      <td>0.958923</td>\n      <td>0.0</td>\n      <td>3.683783</td>\n      <td>4.581017</td>\n      <td>5.297434</td>\n      <td>0.897234</td>\n      <td>0.716417</td>\n      <td>1.613651</td>\n      <td>...</td>\n      <td>8.710414</td>\n      <td>0.560565</td>\n      <td>2.219199</td>\n      <td>2.227387</td>\n      <td>-271.0219</td>\n      <td>0.536837</td>\n      <td>96.05625</td>\n      <td>51.72694</td>\n      <td>95.41311</td>\n      <td>53.10697</td>\n    </tr>\n  </tbody>\n</table>\n<p>5 rows × 6374 columns</p>\n</div>"
     },
     "execution_count": 199,
     "metadata": {},
     "output_type": "execute_result"
    }
   ],
   "source": [
    "aux_static_features_df = static_features_df.copy(deep=True)\n",
    "aux_static_features_df.head()"
   ],
   "metadata": {
    "collapsed": false,
    "pycharm": {
     "name": "#%%\n"
    }
   }
  },
  {
   "cell_type": "code",
   "execution_count": 201,
   "outputs": [
    {
     "data": {
      "text/plain": "     audspec_lengthL1norm_sma_range  audspec_lengthL1norm_sma_maxPos  \\\n0                          7.318236                         0.716432   \n1                          6.558082                         0.703399   \n2                          8.152512                         0.368032   \n3                          8.527122                         0.281728   \n4                          7.756963                         0.958923   \n..                              ...                              ...   \n789                        8.378412                         0.680590   \n790                        7.961765                         0.923569   \n791                        8.305466                         0.461791   \n792                        8.302629                         0.760462   \n793                        8.363514                         0.244803   \n\n     audspec_lengthL1norm_sma_minPos  audspec_lengthL1norm_sma_quartile1  \\\n0                                0.0                            2.245124   \n1                                0.0                            1.606873   \n2                                0.0                            1.404577   \n3                                0.0                            2.106767   \n4                                0.0                            3.683783   \n..                               ...                                 ...   \n789                              0.0                            2.728126   \n790                              0.0                            3.891528   \n791                              0.0                            2.562763   \n792                              0.0                            4.225634   \n793                              0.0                            5.116090   \n\n     audspec_lengthL1norm_sma_quartile2  audspec_lengthL1norm_sma_quartile3  \\\n0                              3.145057                            3.956726   \n1                              2.116417                            2.917487   \n2                              1.969597                            2.666271   \n3                              3.345879                            4.250905   \n4                              4.581017                            5.297434   \n..                                  ...                                 ...   \n789                            3.845191                            5.264757   \n790                            5.317545                            5.944809   \n791                            4.783508                            5.864176   \n792                            5.345556                            6.034480   \n793                            5.982607                            6.588160   \n\n     audspec_lengthL1norm_sma_iqr1-2  audspec_lengthL1norm_sma_iqr2-3  \\\n0                           0.899933                         0.811669   \n1                           0.509543                         0.801071   \n2                           0.565020                         0.696674   \n3                           1.239112                         0.905025   \n4                           0.897234                         0.716417   \n..                               ...                              ...   \n789                         1.117064                         1.419566   \n790                         1.426017                         0.627264   \n791                         2.220744                         1.080668   \n792                         1.119922                         0.688924   \n793                         0.866517                         0.605553   \n\n     audspec_lengthL1norm_sma_iqr1-3  audspec_lengthL1norm_sma_percentile1.0  \\\n0                           1.711601                                0.929235   \n1                           1.310614                                0.311745   \n2                           1.261694                                0.507137   \n3                           2.144137                                0.211913   \n4                           1.613651                                1.357028   \n..                               ...                                     ...   \n789                         2.536630                                1.211291   \n790                         2.053281                                0.019338   \n791                         3.301413                                0.010031   \n792                         1.808846                                0.012528   \n793                         1.472070                                0.018069   \n\n     ...  mfcc_sma_de[14]_peakRangeAbs  mfcc_sma_de[14]_peakRangeRel  \\\n0    ...                     10.694290                      0.552123   \n1    ...                      8.273178                      0.535849   \n2    ...                      9.705502                      0.598316   \n3    ...                      7.689778                      0.575360   \n4    ...                      8.710414                      0.560565   \n..   ...                           ...                           ...   \n789  ...                     11.226420                      0.559879   \n790  ...                     12.711770                      0.639621   \n791  ...                      8.825824                      0.554743   \n792  ...                      7.450211                      0.499976   \n793  ...                      8.164929                      0.474324   \n\n     mfcc_sma_de[14]_peakMeanAbs  mfcc_sma_de[14]_peakMeanMeanDist  \\\n0                       2.884782                          2.886936   \n1                       2.659783                          2.660821   \n2                       2.422745                          2.421824   \n3                       2.224280                          2.224137   \n4                       2.219199                          2.227387   \n..                           ...                               ...   \n789                     2.544755                          2.546021   \n790                     2.599786                          2.598629   \n791                     2.225728                          2.223910   \n792                     2.244456                          2.243278   \n793                     2.249026                          2.247108   \n\n     mfcc_sma_de[14]_peakMeanRel  mfcc_sma_de[14]_minRangeRel  \\\n0                     -1339.0630                     0.554930   \n1                     -2561.7130                     0.665665   \n2                      2630.3710                     0.550189   \n3                     15484.8700                     0.580155   \n4                      -271.0219                     0.536837   \n..                           ...                          ...   \n789                   -2010.1450                     0.622314   \n790                    2247.9420                     0.545877   \n791                    1224.7670                     0.579119   \n792                    1906.0100                     0.580830   \n793                    1172.5540                     0.573543   \n\n     mfcc_sma_de[14]_meanRisingSlope  mfcc_sma_de[14]_stddevRisingSlope  \\\n0                          113.55350                           57.37954   \n1                          104.48770                           63.52283   \n2                          105.54060                           53.73272   \n3                           98.76061                           49.21307   \n4                           96.05625                           51.72694   \n..                               ...                                ...   \n789                        109.22900                           59.13757   \n790                        113.89870                           60.04008   \n791                        104.00700                           50.69448   \n792                         97.37801                           48.68456   \n793                         98.06568                           50.81982   \n\n     mfcc_sma_de[14]_meanFallingSlope  mfcc_sma_de[14]_stddevFallingSlope  \n0                           111.61330                            59.35901  \n1                           106.18320                            54.71746  \n2                           105.51670                            54.68540  \n3                           101.23990                            49.36958  \n4                            95.41311                            53.10697  \n..                                ...                                 ...  \n789                         105.51910                            58.49892  \n790                         114.09210                            55.47742  \n791                         101.76250                            55.04704  \n792                          98.12227                            48.16222  \n793                          95.18258                            50.26721  \n\n[794 rows x 6373 columns]",
      "text/html": "<div>\n<style scoped>\n    .dataframe tbody tr th:only-of-type {\n        vertical-align: middle;\n    }\n\n    .dataframe tbody tr th {\n        vertical-align: top;\n    }\n\n    .dataframe thead th {\n        text-align: right;\n    }\n</style>\n<table border=\"1\" class=\"dataframe\">\n  <thead>\n    <tr style=\"text-align: right;\">\n      <th></th>\n      <th>audspec_lengthL1norm_sma_range</th>\n      <th>audspec_lengthL1norm_sma_maxPos</th>\n      <th>audspec_lengthL1norm_sma_minPos</th>\n      <th>audspec_lengthL1norm_sma_quartile1</th>\n      <th>audspec_lengthL1norm_sma_quartile2</th>\n      <th>audspec_lengthL1norm_sma_quartile3</th>\n      <th>audspec_lengthL1norm_sma_iqr1-2</th>\n      <th>audspec_lengthL1norm_sma_iqr2-3</th>\n      <th>audspec_lengthL1norm_sma_iqr1-3</th>\n      <th>audspec_lengthL1norm_sma_percentile1.0</th>\n      <th>...</th>\n      <th>mfcc_sma_de[14]_peakRangeAbs</th>\n      <th>mfcc_sma_de[14]_peakRangeRel</th>\n      <th>mfcc_sma_de[14]_peakMeanAbs</th>\n      <th>mfcc_sma_de[14]_peakMeanMeanDist</th>\n      <th>mfcc_sma_de[14]_peakMeanRel</th>\n      <th>mfcc_sma_de[14]_minRangeRel</th>\n      <th>mfcc_sma_de[14]_meanRisingSlope</th>\n      <th>mfcc_sma_de[14]_stddevRisingSlope</th>\n      <th>mfcc_sma_de[14]_meanFallingSlope</th>\n      <th>mfcc_sma_de[14]_stddevFallingSlope</th>\n    </tr>\n  </thead>\n  <tbody>\n    <tr>\n      <th>0</th>\n      <td>7.318236</td>\n      <td>0.716432</td>\n      <td>0.0</td>\n      <td>2.245124</td>\n      <td>3.145057</td>\n      <td>3.956726</td>\n      <td>0.899933</td>\n      <td>0.811669</td>\n      <td>1.711601</td>\n      <td>0.929235</td>\n      <td>...</td>\n      <td>10.694290</td>\n      <td>0.552123</td>\n      <td>2.884782</td>\n      <td>2.886936</td>\n      <td>-1339.0630</td>\n      <td>0.554930</td>\n      <td>113.55350</td>\n      <td>57.37954</td>\n      <td>111.61330</td>\n      <td>59.35901</td>\n    </tr>\n    <tr>\n      <th>1</th>\n      <td>6.558082</td>\n      <td>0.703399</td>\n      <td>0.0</td>\n      <td>1.606873</td>\n      <td>2.116417</td>\n      <td>2.917487</td>\n      <td>0.509543</td>\n      <td>0.801071</td>\n      <td>1.310614</td>\n      <td>0.311745</td>\n      <td>...</td>\n      <td>8.273178</td>\n      <td>0.535849</td>\n      <td>2.659783</td>\n      <td>2.660821</td>\n      <td>-2561.7130</td>\n      <td>0.665665</td>\n      <td>104.48770</td>\n      <td>63.52283</td>\n      <td>106.18320</td>\n      <td>54.71746</td>\n    </tr>\n    <tr>\n      <th>2</th>\n      <td>8.152512</td>\n      <td>0.368032</td>\n      <td>0.0</td>\n      <td>1.404577</td>\n      <td>1.969597</td>\n      <td>2.666271</td>\n      <td>0.565020</td>\n      <td>0.696674</td>\n      <td>1.261694</td>\n      <td>0.507137</td>\n      <td>...</td>\n      <td>9.705502</td>\n      <td>0.598316</td>\n      <td>2.422745</td>\n      <td>2.421824</td>\n      <td>2630.3710</td>\n      <td>0.550189</td>\n      <td>105.54060</td>\n      <td>53.73272</td>\n      <td>105.51670</td>\n      <td>54.68540</td>\n    </tr>\n    <tr>\n      <th>3</th>\n      <td>8.527122</td>\n      <td>0.281728</td>\n      <td>0.0</td>\n      <td>2.106767</td>\n      <td>3.345879</td>\n      <td>4.250905</td>\n      <td>1.239112</td>\n      <td>0.905025</td>\n      <td>2.144137</td>\n      <td>0.211913</td>\n      <td>...</td>\n      <td>7.689778</td>\n      <td>0.575360</td>\n      <td>2.224280</td>\n      <td>2.224137</td>\n      <td>15484.8700</td>\n      <td>0.580155</td>\n      <td>98.76061</td>\n      <td>49.21307</td>\n      <td>101.23990</td>\n      <td>49.36958</td>\n    </tr>\n    <tr>\n      <th>4</th>\n      <td>7.756963</td>\n      <td>0.958923</td>\n      <td>0.0</td>\n      <td>3.683783</td>\n      <td>4.581017</td>\n      <td>5.297434</td>\n      <td>0.897234</td>\n      <td>0.716417</td>\n      <td>1.613651</td>\n      <td>1.357028</td>\n      <td>...</td>\n      <td>8.710414</td>\n      <td>0.560565</td>\n      <td>2.219199</td>\n      <td>2.227387</td>\n      <td>-271.0219</td>\n      <td>0.536837</td>\n      <td>96.05625</td>\n      <td>51.72694</td>\n      <td>95.41311</td>\n      <td>53.10697</td>\n    </tr>\n    <tr>\n      <th>...</th>\n      <td>...</td>\n      <td>...</td>\n      <td>...</td>\n      <td>...</td>\n      <td>...</td>\n      <td>...</td>\n      <td>...</td>\n      <td>...</td>\n      <td>...</td>\n      <td>...</td>\n      <td>...</td>\n      <td>...</td>\n      <td>...</td>\n      <td>...</td>\n      <td>...</td>\n      <td>...</td>\n      <td>...</td>\n      <td>...</td>\n      <td>...</td>\n      <td>...</td>\n      <td>...</td>\n    </tr>\n    <tr>\n      <th>789</th>\n      <td>8.378412</td>\n      <td>0.680590</td>\n      <td>0.0</td>\n      <td>2.728126</td>\n      <td>3.845191</td>\n      <td>5.264757</td>\n      <td>1.117064</td>\n      <td>1.419566</td>\n      <td>2.536630</td>\n      <td>1.211291</td>\n      <td>...</td>\n      <td>11.226420</td>\n      <td>0.559879</td>\n      <td>2.544755</td>\n      <td>2.546021</td>\n      <td>-2010.1450</td>\n      <td>0.622314</td>\n      <td>109.22900</td>\n      <td>59.13757</td>\n      <td>105.51910</td>\n      <td>58.49892</td>\n    </tr>\n    <tr>\n      <th>790</th>\n      <td>7.961765</td>\n      <td>0.923569</td>\n      <td>0.0</td>\n      <td>3.891528</td>\n      <td>5.317545</td>\n      <td>5.944809</td>\n      <td>1.426017</td>\n      <td>0.627264</td>\n      <td>2.053281</td>\n      <td>0.019338</td>\n      <td>...</td>\n      <td>12.711770</td>\n      <td>0.639621</td>\n      <td>2.599786</td>\n      <td>2.598629</td>\n      <td>2247.9420</td>\n      <td>0.545877</td>\n      <td>113.89870</td>\n      <td>60.04008</td>\n      <td>114.09210</td>\n      <td>55.47742</td>\n    </tr>\n    <tr>\n      <th>791</th>\n      <td>8.305466</td>\n      <td>0.461791</td>\n      <td>0.0</td>\n      <td>2.562763</td>\n      <td>4.783508</td>\n      <td>5.864176</td>\n      <td>2.220744</td>\n      <td>1.080668</td>\n      <td>3.301413</td>\n      <td>0.010031</td>\n      <td>...</td>\n      <td>8.825824</td>\n      <td>0.554743</td>\n      <td>2.225728</td>\n      <td>2.223910</td>\n      <td>1224.7670</td>\n      <td>0.579119</td>\n      <td>104.00700</td>\n      <td>50.69448</td>\n      <td>101.76250</td>\n      <td>55.04704</td>\n    </tr>\n    <tr>\n      <th>792</th>\n      <td>8.302629</td>\n      <td>0.760462</td>\n      <td>0.0</td>\n      <td>4.225634</td>\n      <td>5.345556</td>\n      <td>6.034480</td>\n      <td>1.119922</td>\n      <td>0.688924</td>\n      <td>1.808846</td>\n      <td>0.012528</td>\n      <td>...</td>\n      <td>7.450211</td>\n      <td>0.499976</td>\n      <td>2.244456</td>\n      <td>2.243278</td>\n      <td>1906.0100</td>\n      <td>0.580830</td>\n      <td>97.37801</td>\n      <td>48.68456</td>\n      <td>98.12227</td>\n      <td>48.16222</td>\n    </tr>\n    <tr>\n      <th>793</th>\n      <td>8.363514</td>\n      <td>0.244803</td>\n      <td>0.0</td>\n      <td>5.116090</td>\n      <td>5.982607</td>\n      <td>6.588160</td>\n      <td>0.866517</td>\n      <td>0.605553</td>\n      <td>1.472070</td>\n      <td>0.018069</td>\n      <td>...</td>\n      <td>8.164929</td>\n      <td>0.474324</td>\n      <td>2.249026</td>\n      <td>2.247108</td>\n      <td>1172.5540</td>\n      <td>0.573543</td>\n      <td>98.06568</td>\n      <td>50.81982</td>\n      <td>95.18258</td>\n      <td>50.26721</td>\n    </tr>\n  </tbody>\n</table>\n<p>794 rows × 6373 columns</p>\n</div>"
     },
     "execution_count": 201,
     "metadata": {},
     "output_type": "execute_result"
    }
   ],
   "source": [
    "aux_static_features_df.drop(columns=\"musicId\", inplace=True)\n",
    "aux_static_features_df"
   ],
   "metadata": {
    "collapsed": false,
    "pycharm": {
     "name": "#%%\n"
    }
   }
  },
  {
   "cell_type": "code",
   "execution_count": 202,
   "outputs": [],
   "source": [
    "aux_static_features_df[\"acoustic\"]=aux_static_features_df.values.tolist()"
   ],
   "metadata": {
    "collapsed": false,
    "pycharm": {
     "name": "#%%\n"
    }
   }
  },
  {
   "cell_type": "code",
   "execution_count": 205,
   "outputs": [
    {
     "data": {
      "text/plain": "   musicId                                           acoustic\n0        1  [7.318236, 0.7164319, 0.0, 2.245124, 3.145057,...\n1        4  [6.558082000000001, 0.7033989, 0.0, 1.606873, ...\n2        5  [8.152512, 0.3680324, 0.0, 1.404577, 1.969597,...\n3        6  [8.527122, 0.2817285, 0.0, 2.106767, 3.345879,...\n4        7  [7.756963000000001, 0.958923, 0.0, 3.683783, 4...",
      "text/html": "<div>\n<style scoped>\n    .dataframe tbody tr th:only-of-type {\n        vertical-align: middle;\n    }\n\n    .dataframe tbody tr th {\n        vertical-align: top;\n    }\n\n    .dataframe thead th {\n        text-align: right;\n    }\n</style>\n<table border=\"1\" class=\"dataframe\">\n  <thead>\n    <tr style=\"text-align: right;\">\n      <th></th>\n      <th>musicId</th>\n      <th>acoustic</th>\n    </tr>\n  </thead>\n  <tbody>\n    <tr>\n      <th>0</th>\n      <td>1</td>\n      <td>[7.318236, 0.7164319, 0.0, 2.245124, 3.145057,...</td>\n    </tr>\n    <tr>\n      <th>1</th>\n      <td>4</td>\n      <td>[6.558082000000001, 0.7033989, 0.0, 1.606873, ...</td>\n    </tr>\n    <tr>\n      <th>2</th>\n      <td>5</td>\n      <td>[8.152512, 0.3680324, 0.0, 1.404577, 1.969597,...</td>\n    </tr>\n    <tr>\n      <th>3</th>\n      <td>6</td>\n      <td>[8.527122, 0.2817285, 0.0, 2.106767, 3.345879,...</td>\n    </tr>\n    <tr>\n      <th>4</th>\n      <td>7</td>\n      <td>[7.756963000000001, 0.958923, 0.0, 3.683783, 4...</td>\n    </tr>\n  </tbody>\n</table>\n</div>"
     },
     "execution_count": 205,
     "metadata": {},
     "output_type": "execute_result"
    }
   ],
   "source": [
    "aux_static_features_df = pd.concat([static_features_df['musicId'], aux_static_features_df[\"acoustic\"]],axis=1)\n",
    "aux_static_features_df.head()"
   ],
   "metadata": {
    "collapsed": false,
    "pycharm": {
     "name": "#%%\n"
    }
   }
  },
  {
   "cell_type": "code",
   "execution_count": 206,
   "outputs": [],
   "source": [
    "aux_static_features_df.to_csv(\"../data/processed/acoustic.tsv\", sep=\"\\t\")"
   ],
   "metadata": {
    "collapsed": false,
    "pycharm": {
     "name": "#%%\n"
    }
   }
  },
  {
   "cell_type": "code",
   "execution_count": 228,
   "outputs": [
    {
     "name": "stdout",
     "output_type": "stream",
     "text": [
      "4\n",
      "7\n",
      "8\n",
      "11\n",
      "13\n",
      "14\n",
      "15\n",
      "16\n",
      "18\n",
      "29\n",
      "30\n",
      "31\n",
      "47\n",
      "60\n",
      "63\n",
      "64\n",
      "65\n",
      "76\n",
      "81\n",
      "84\n",
      "91\n",
      "94\n",
      "97\n",
      "99\n",
      "103\n",
      "104\n",
      "118\n",
      "132\n",
      "134\n",
      "137\n",
      "138\n",
      "143\n",
      "165\n",
      "187\n",
      "188\n",
      "191\n",
      "198\n",
      "206\n",
      "213\n",
      "226\n",
      "231\n",
      "241\n",
      "258\n",
      "276\n",
      "282\n",
      "296\n",
      "300\n",
      "302\n",
      "312\n",
      "315\n",
      "316\n",
      "317\n",
      "318\n",
      "320\n",
      "321\n",
      "323\n",
      "326\n",
      "343\n",
      "358\n",
      "373\n",
      "376\n",
      "384\n",
      "386\n",
      "394\n",
      "402\n",
      "409\n",
      "411\n",
      "412\n",
      "417\n",
      "419\n",
      "423\n",
      "437\n",
      "438\n",
      "444\n",
      "445\n",
      "452\n",
      "458\n",
      "476\n",
      "479\n",
      "480\n",
      "481\n",
      "482\n",
      "486\n",
      "489\n",
      "490\n",
      "495\n",
      "499\n",
      "519\n",
      "521\n",
      "522\n",
      "523\n",
      "524\n",
      "525\n",
      "530\n",
      "534\n",
      "541\n",
      "544\n",
      "546\n",
      "552\n",
      "576\n",
      "577\n",
      "578\n",
      "582\n",
      "583\n",
      "584\n",
      "594\n",
      "595\n",
      "616\n",
      "617\n",
      "623\n",
      "624\n",
      "638\n",
      "644\n",
      "653\n",
      "668\n",
      "674\n",
      "675\n",
      "684\n",
      "688\n",
      "699\n",
      "700\n",
      "704\n",
      "710\n",
      "716\n",
      "728\n",
      "729\n",
      "741\n",
      "742\n",
      "746\n",
      "758\n",
      "769\n",
      "789\n",
      "792\n",
      "794\n",
      "797\n",
      "798\n",
      "799\n",
      "806\n",
      "810\n",
      "824\n",
      "825\n",
      "837\n",
      "842\n",
      "854\n",
      "859\n",
      "860\n",
      "863\n",
      "871\n",
      "879\n",
      "880\n",
      "882\n",
      "897\n",
      "905\n",
      "908\n",
      "909\n",
      "916\n",
      "922\n",
      "959\n",
      "962\n",
      "971\n",
      "973\n",
      "978\n",
      "980\n",
      "981\n",
      "989\n",
      "992\n",
      "997\n",
      "999\n",
      "1000\n"
     ]
    }
   ],
   "source": [
    "letras = []\n",
    "log = open(\"../data/processed/letras_faltantes.txt\",\"w\")\n",
    "log.write(\"musicId\\n\")\n",
    "for i in aux_static_features_df.itertuples(index=False):\n",
    "    try:\n",
    "        letras.append(df[df.music_id==str(i.musicId)].lyrics.tolist()[0])\n",
    "    except IndexError:\n",
    "        print(i.musicId)\n",
    "        log.write(f\"{i.musicId}\\n\")\n",
    "        letras.append(\"\")\n",
    "log.close()\n",
    "#letras"
   ],
   "metadata": {
    "collapsed": false,
    "pycharm": {
     "name": "#%%\n"
    }
   }
  },
  {
   "cell_type": "code",
   "execution_count": 229,
   "outputs": [
    {
     "data": {
      "text/plain": "   musicId                                           acoustic  \\\n0        1  [7.318236, 0.7164319, 0.0, 2.245124, 3.145057,...   \n1        4  [6.558082000000001, 0.7033989, 0.0, 1.606873, ...   \n2        5  [8.152512, 0.3680324, 0.0, 1.404577, 1.969597,...   \n3        6  [8.527122, 0.2817285, 0.0, 2.106767, 3.345879,...   \n4        7  [7.756963000000001, 0.958923, 0.0, 3.683783, 4...   \n\n                                              lyrics  \n0  Uhh, (yeah) alright I did it, hahah, yeah Used...  \n1                                                     \n2  {Hook} Young Savage, why you trappin' so hard?...  \n3  Yeah, Yeah, Yeah I pull up roll the window dow...  \n4                                                     ",
      "text/html": "<div>\n<style scoped>\n    .dataframe tbody tr th:only-of-type {\n        vertical-align: middle;\n    }\n\n    .dataframe tbody tr th {\n        vertical-align: top;\n    }\n\n    .dataframe thead th {\n        text-align: right;\n    }\n</style>\n<table border=\"1\" class=\"dataframe\">\n  <thead>\n    <tr style=\"text-align: right;\">\n      <th></th>\n      <th>musicId</th>\n      <th>acoustic</th>\n      <th>lyrics</th>\n    </tr>\n  </thead>\n  <tbody>\n    <tr>\n      <th>0</th>\n      <td>1</td>\n      <td>[7.318236, 0.7164319, 0.0, 2.245124, 3.145057,...</td>\n      <td>Uhh, (yeah) alright I did it, hahah, yeah Used...</td>\n    </tr>\n    <tr>\n      <th>1</th>\n      <td>4</td>\n      <td>[6.558082000000001, 0.7033989, 0.0, 1.606873, ...</td>\n      <td></td>\n    </tr>\n    <tr>\n      <th>2</th>\n      <td>5</td>\n      <td>[8.152512, 0.3680324, 0.0, 1.404577, 1.969597,...</td>\n      <td>{Hook} Young Savage, why you trappin' so hard?...</td>\n    </tr>\n    <tr>\n      <th>3</th>\n      <td>6</td>\n      <td>[8.527122, 0.2817285, 0.0, 2.106767, 3.345879,...</td>\n      <td>Yeah, Yeah, Yeah I pull up roll the window dow...</td>\n    </tr>\n    <tr>\n      <th>4</th>\n      <td>7</td>\n      <td>[7.756963000000001, 0.958923, 0.0, 3.683783, 4...</td>\n      <td></td>\n    </tr>\n  </tbody>\n</table>\n</div>"
     },
     "execution_count": 229,
     "metadata": {},
     "output_type": "execute_result"
    }
   ],
   "source": [
    "aux_static_features_df[\"lyrics\"]=letras\n",
    "aux_static_features_df.head()"
   ],
   "metadata": {
    "collapsed": false,
    "pycharm": {
     "name": "#%%\n"
    }
   }
  },
  {
   "cell_type": "code",
   "execution_count": 230,
   "outputs": [
    {
     "data": {
      "text/plain": "   musicId  Arousal(mean)  Valence(mean)\n0        1         0.4000         0.5750\n1        4         0.2625         0.2875\n2        5         0.1500         0.2000\n3        6         0.5125         0.3500\n4        7         0.7000         0.7250",
      "text/html": "<div>\n<style scoped>\n    .dataframe tbody tr th:only-of-type {\n        vertical-align: middle;\n    }\n\n    .dataframe tbody tr th {\n        vertical-align: top;\n    }\n\n    .dataframe thead th {\n        text-align: right;\n    }\n</style>\n<table border=\"1\" class=\"dataframe\">\n  <thead>\n    <tr style=\"text-align: right;\">\n      <th></th>\n      <th>musicId</th>\n      <th>Arousal(mean)</th>\n      <th>Valence(mean)</th>\n    </tr>\n  </thead>\n  <tbody>\n    <tr>\n      <th>0</th>\n      <td>1</td>\n      <td>0.4000</td>\n      <td>0.5750</td>\n    </tr>\n    <tr>\n      <th>1</th>\n      <td>4</td>\n      <td>0.2625</td>\n      <td>0.2875</td>\n    </tr>\n    <tr>\n      <th>2</th>\n      <td>5</td>\n      <td>0.1500</td>\n      <td>0.2000</td>\n    </tr>\n    <tr>\n      <th>3</th>\n      <td>6</td>\n      <td>0.5125</td>\n      <td>0.3500</td>\n    </tr>\n    <tr>\n      <th>4</th>\n      <td>7</td>\n      <td>0.7000</td>\n      <td>0.7250</td>\n    </tr>\n  </tbody>\n</table>\n</div>"
     },
     "execution_count": 230,
     "metadata": {},
     "output_type": "execute_result"
    }
   ],
   "source": [
    "annotations_df = pd.read_csv(\"../data/raw/PMEmo2019/annotations/static_annotations.csv\")\n",
    "annotations_df.head()"
   ],
   "metadata": {
    "collapsed": false,
    "pycharm": {
     "name": "#%%\n"
    }
   }
  },
  {
   "cell_type": "code",
   "execution_count": 239,
   "outputs": [
    {
     "name": "stdout",
     "output_type": "stream",
     "text": [
      "11\n",
      "64\n",
      "85\n",
      "95\n",
      "101\n",
      "110\n",
      "118\n",
      "205\n",
      "206\n",
      "226\n",
      "264\n",
      "278\n",
      "291\n",
      "311\n",
      "320\n",
      "352\n",
      "359\n",
      "371\n",
      "384\n",
      "392\n",
      "404\n",
      "459\n",
      "464\n",
      "596\n",
      "610\n",
      "687\n",
      "866\n"
     ]
    }
   ],
   "source": [
    "import numpy as np\n",
    "arousal = []\n",
    "valenece = []\n",
    "log = open(\"../data/processed/anotacoes_faltantes.txt\",\"w\")\n",
    "log.write(\"musicId\\n\")\n",
    "for i in aux_static_features_df.itertuples(index=False):\n",
    "    try:\n",
    "        arousal.append(annotations_df[annotations_df.musicId==i.musicId]['Arousal(mean)'].tolist()[0])\n",
    "        valenece.append(annotations_df[annotations_df.musicId==i.musicId]['Valence(mean)'].tolist()[0])\n",
    "    except IndexError:\n",
    "        print(i.musicId)\n",
    "        log.write(f\"{i.musicId}\\n\")\n",
    "        arousal.append(np.NaN)\n",
    "        valenece.append(np.NaN)\n",
    "log.close()"
   ],
   "metadata": {
    "collapsed": false,
    "pycharm": {
     "name": "#%%\n"
    }
   }
  },
  {
   "cell_type": "code",
   "execution_count": 240,
   "outputs": [
    {
     "data": {
      "text/plain": "   musicId                                           acoustic  \\\n0        1  [7.318236, 0.7164319, 0.0, 2.245124, 3.145057,...   \n1        4  [6.558082000000001, 0.7033989, 0.0, 1.606873, ...   \n2        5  [8.152512, 0.3680324, 0.0, 1.404577, 1.969597,...   \n3        6  [8.527122, 0.2817285, 0.0, 2.106767, 3.345879,...   \n4        7  [7.756963000000001, 0.958923, 0.0, 3.683783, 4...   \n\n                                              lyrics  Arousal(mean)  \\\n0  Uhh, (yeah) alright I did it, hahah, yeah Used...         0.4000   \n1                                                            0.2625   \n2  {Hook} Young Savage, why you trappin' so hard?...         0.1500   \n3  Yeah, Yeah, Yeah I pull up roll the window dow...         0.5125   \n4                                                            0.7000   \n\n   Valence(mean)  \n0         0.5750  \n1         0.2875  \n2         0.2000  \n3         0.3500  \n4         0.7250  ",
      "text/html": "<div>\n<style scoped>\n    .dataframe tbody tr th:only-of-type {\n        vertical-align: middle;\n    }\n\n    .dataframe tbody tr th {\n        vertical-align: top;\n    }\n\n    .dataframe thead th {\n        text-align: right;\n    }\n</style>\n<table border=\"1\" class=\"dataframe\">\n  <thead>\n    <tr style=\"text-align: right;\">\n      <th></th>\n      <th>musicId</th>\n      <th>acoustic</th>\n      <th>lyrics</th>\n      <th>Arousal(mean)</th>\n      <th>Valence(mean)</th>\n    </tr>\n  </thead>\n  <tbody>\n    <tr>\n      <th>0</th>\n      <td>1</td>\n      <td>[7.318236, 0.7164319, 0.0, 2.245124, 3.145057,...</td>\n      <td>Uhh, (yeah) alright I did it, hahah, yeah Used...</td>\n      <td>0.4000</td>\n      <td>0.5750</td>\n    </tr>\n    <tr>\n      <th>1</th>\n      <td>4</td>\n      <td>[6.558082000000001, 0.7033989, 0.0, 1.606873, ...</td>\n      <td></td>\n      <td>0.2625</td>\n      <td>0.2875</td>\n    </tr>\n    <tr>\n      <th>2</th>\n      <td>5</td>\n      <td>[8.152512, 0.3680324, 0.0, 1.404577, 1.969597,...</td>\n      <td>{Hook} Young Savage, why you trappin' so hard?...</td>\n      <td>0.1500</td>\n      <td>0.2000</td>\n    </tr>\n    <tr>\n      <th>3</th>\n      <td>6</td>\n      <td>[8.527122, 0.2817285, 0.0, 2.106767, 3.345879,...</td>\n      <td>Yeah, Yeah, Yeah I pull up roll the window dow...</td>\n      <td>0.5125</td>\n      <td>0.3500</td>\n    </tr>\n    <tr>\n      <th>4</th>\n      <td>7</td>\n      <td>[7.756963000000001, 0.958923, 0.0, 3.683783, 4...</td>\n      <td></td>\n      <td>0.7000</td>\n      <td>0.7250</td>\n    </tr>\n  </tbody>\n</table>\n</div>"
     },
     "execution_count": 240,
     "metadata": {},
     "output_type": "execute_result"
    }
   ],
   "source": [
    "aux_static_features_df[\"Arousal(mean)\"]=arousal\n",
    "aux_static_features_df[\"Valence(mean)\"]=valenece\n",
    "aux_static_features_df.head()"
   ],
   "metadata": {
    "collapsed": false,
    "pycharm": {
     "name": "#%%\n"
    }
   }
  },
  {
   "cell_type": "code",
   "execution_count": 244,
   "outputs": [],
   "source": [
    "aux_static_features_df.to_csv(\"../data/processed/PMEmo2019.tsv\", sep=\"\\t\")"
   ],
   "metadata": {
    "collapsed": false,
    "pycharm": {
     "name": "#%%\n"
    }
   }
  },
  {
   "cell_type": "code",
   "execution_count": 243,
   "outputs": [
    {
     "name": "stdout",
     "output_type": "stream",
     "text": [
      "11\n",
      "64\n",
      "118\n",
      "206\n",
      "226\n",
      "320\n",
      "384\n"
     ]
    }
   ],
   "source": [
    "logs_letras = pd.read_csv(\"../data/processed/letras_faltantes.txt\")\n",
    "logs_anotacoes = pd.read_csv(\"../data/processed/anotacoes_faltantes.txt\")\n",
    "musicId=logs_anotacoes.musicId.unique()\n",
    "log = open(\"../data/processed/anotacoes_e_letras_faltantes.txt\",\"w\")\n",
    "log.write(\"musicId\\n\")\n",
    "for i in logs_letras.itertuples(index=False):\n",
    "    if i.musicId in musicId:\n",
    "        print(i.musicId)\n",
    "        log.write(f\"{i.musicId}\\n\")\n",
    "log.close()\n"
   ],
   "metadata": {
    "collapsed": false,
    "pycharm": {
     "name": "#%%\n"
    }
   }
  }
 ],
 "metadata": {
  "kernelspec": {
   "display_name": "Python 3",
   "language": "python",
   "name": "python3"
  },
  "language_info": {
   "codemirror_mode": {
    "name": "ipython",
    "version": 2
   },
   "file_extension": ".py",
   "mimetype": "text/x-python",
   "name": "python",
   "nbconvert_exporter": "python",
   "pygments_lexer": "ipython2",
   "version": "2.7.6"
  }
 },
 "nbformat": 4,
 "nbformat_minor": 0
}