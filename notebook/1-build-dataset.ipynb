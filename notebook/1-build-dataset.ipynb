{
 "cells": [
  {
   "cell_type": "code",
   "execution_count": 1,
   "metadata": {
    "collapsed": true
   },
   "outputs": [],
   "source": [
    "import pandas as pd"
   ]
  },
  {
   "cell_type": "code",
   "execution_count": 2,
   "outputs": [
    {
     "data": {
      "text/plain": "   musicId  audspec_lengthL1norm_sma_range  audspec_lengthL1norm_sma_maxPos  \\\n0        1                        7.318236                         0.716432   \n1        4                        6.558082                         0.703399   \n2        5                        8.152512                         0.368032   \n\n   audspec_lengthL1norm_sma_minPos  audspec_lengthL1norm_sma_quartile1  \\\n0                              0.0                            2.245124   \n1                              0.0                            1.606873   \n2                              0.0                            1.404577   \n\n   audspec_lengthL1norm_sma_quartile2  audspec_lengthL1norm_sma_quartile3  \\\n0                            3.145057                            3.956726   \n1                            2.116417                            2.917487   \n2                            1.969597                            2.666271   \n\n   audspec_lengthL1norm_sma_iqr1-2  audspec_lengthL1norm_sma_iqr2-3  \\\n0                         0.899933                         0.811669   \n1                         0.509543                         0.801071   \n2                         0.565020                         0.696674   \n\n   audspec_lengthL1norm_sma_iqr1-3  ...  mfcc_sma_de[14]_peakRangeAbs  \\\n0                         1.711601  ...                     10.694290   \n1                         1.310614  ...                      8.273178   \n2                         1.261694  ...                      9.705502   \n\n   mfcc_sma_de[14]_peakRangeRel  mfcc_sma_de[14]_peakMeanAbs  \\\n0                      0.552123                     2.884782   \n1                      0.535849                     2.659783   \n2                      0.598316                     2.422745   \n\n   mfcc_sma_de[14]_peakMeanMeanDist  mfcc_sma_de[14]_peakMeanRel  \\\n0                          2.886936                    -1339.063   \n1                          2.660821                    -2561.713   \n2                          2.421824                     2630.371   \n\n   mfcc_sma_de[14]_minRangeRel  mfcc_sma_de[14]_meanRisingSlope  \\\n0                     0.554930                         113.5535   \n1                     0.665665                         104.4877   \n2                     0.550189                         105.5406   \n\n   mfcc_sma_de[14]_stddevRisingSlope  mfcc_sma_de[14]_meanFallingSlope  \\\n0                           57.37954                          111.6133   \n1                           63.52283                          106.1832   \n2                           53.73272                          105.5167   \n\n   mfcc_sma_de[14]_stddevFallingSlope  \n0                            59.35901  \n1                            54.71746  \n2                            54.68540  \n\n[3 rows x 6374 columns]",
      "text/html": "<div>\n<style scoped>\n    .dataframe tbody tr th:only-of-type {\n        vertical-align: middle;\n    }\n\n    .dataframe tbody tr th {\n        vertical-align: top;\n    }\n\n    .dataframe thead th {\n        text-align: right;\n    }\n</style>\n<table border=\"1\" class=\"dataframe\">\n  <thead>\n    <tr style=\"text-align: right;\">\n      <th></th>\n      <th>musicId</th>\n      <th>audspec_lengthL1norm_sma_range</th>\n      <th>audspec_lengthL1norm_sma_maxPos</th>\n      <th>audspec_lengthL1norm_sma_minPos</th>\n      <th>audspec_lengthL1norm_sma_quartile1</th>\n      <th>audspec_lengthL1norm_sma_quartile2</th>\n      <th>audspec_lengthL1norm_sma_quartile3</th>\n      <th>audspec_lengthL1norm_sma_iqr1-2</th>\n      <th>audspec_lengthL1norm_sma_iqr2-3</th>\n      <th>audspec_lengthL1norm_sma_iqr1-3</th>\n      <th>...</th>\n      <th>mfcc_sma_de[14]_peakRangeAbs</th>\n      <th>mfcc_sma_de[14]_peakRangeRel</th>\n      <th>mfcc_sma_de[14]_peakMeanAbs</th>\n      <th>mfcc_sma_de[14]_peakMeanMeanDist</th>\n      <th>mfcc_sma_de[14]_peakMeanRel</th>\n      <th>mfcc_sma_de[14]_minRangeRel</th>\n      <th>mfcc_sma_de[14]_meanRisingSlope</th>\n      <th>mfcc_sma_de[14]_stddevRisingSlope</th>\n      <th>mfcc_sma_de[14]_meanFallingSlope</th>\n      <th>mfcc_sma_de[14]_stddevFallingSlope</th>\n    </tr>\n  </thead>\n  <tbody>\n    <tr>\n      <th>0</th>\n      <td>1</td>\n      <td>7.318236</td>\n      <td>0.716432</td>\n      <td>0.0</td>\n      <td>2.245124</td>\n      <td>3.145057</td>\n      <td>3.956726</td>\n      <td>0.899933</td>\n      <td>0.811669</td>\n      <td>1.711601</td>\n      <td>...</td>\n      <td>10.694290</td>\n      <td>0.552123</td>\n      <td>2.884782</td>\n      <td>2.886936</td>\n      <td>-1339.063</td>\n      <td>0.554930</td>\n      <td>113.5535</td>\n      <td>57.37954</td>\n      <td>111.6133</td>\n      <td>59.35901</td>\n    </tr>\n    <tr>\n      <th>1</th>\n      <td>4</td>\n      <td>6.558082</td>\n      <td>0.703399</td>\n      <td>0.0</td>\n      <td>1.606873</td>\n      <td>2.116417</td>\n      <td>2.917487</td>\n      <td>0.509543</td>\n      <td>0.801071</td>\n      <td>1.310614</td>\n      <td>...</td>\n      <td>8.273178</td>\n      <td>0.535849</td>\n      <td>2.659783</td>\n      <td>2.660821</td>\n      <td>-2561.713</td>\n      <td>0.665665</td>\n      <td>104.4877</td>\n      <td>63.52283</td>\n      <td>106.1832</td>\n      <td>54.71746</td>\n    </tr>\n    <tr>\n      <th>2</th>\n      <td>5</td>\n      <td>8.152512</td>\n      <td>0.368032</td>\n      <td>0.0</td>\n      <td>1.404577</td>\n      <td>1.969597</td>\n      <td>2.666271</td>\n      <td>0.565020</td>\n      <td>0.696674</td>\n      <td>1.261694</td>\n      <td>...</td>\n      <td>9.705502</td>\n      <td>0.598316</td>\n      <td>2.422745</td>\n      <td>2.421824</td>\n      <td>2630.371</td>\n      <td>0.550189</td>\n      <td>105.5406</td>\n      <td>53.73272</td>\n      <td>105.5167</td>\n      <td>54.68540</td>\n    </tr>\n  </tbody>\n</table>\n<p>3 rows × 6374 columns</p>\n</div>"
     },
     "execution_count": 2,
     "metadata": {},
     "output_type": "execute_result"
    }
   ],
   "source": [
    "static_features_df = pd.read_csv(\"../data/raw/PMEmo2019/features/static_features.csv\")\n",
    "static_features_df.head(3)"
   ],
   "metadata": {
    "collapsed": false,
    "pycharm": {
     "name": "#%%\n"
    }
   }
  },
  {
   "cell_type": "code",
   "execution_count": 183,
   "outputs": [
    {
     "data": {
      "text/plain": "    music_id                           music_artist  \\\n0        334                               sem nome   \n1        698                              Trap_Girl   \n2        350                                    工作婊   \n3        492  Kane Brown/Matt McGinn/Jordan Schmidt   \n4        311                             雪贤Seolhyun   \n..       ...                                    ...   \n624      399                             Gucci Mane   \n625      606                               sem nome   \n626      755                         Paul McCartney   \n627      648                               sem nome   \n628      932                                hondoes   \n\n                                                lyrics  \n0    It's my house, come on, turn it up Hear a knoc...  \n1    Tell me the price Tell me the price Tell me th...  \n2    These bitches want Nikes They looking for a ch...  \n3     You say what if I hurt you  What if I leave y...  \n4    Súbeme la radio Tra-tráeme el alcohol Súbeme l...  \n..                                                 ...  \n624  Zone six! - I got money that I saved then I'm ...  \n625   Inner feelings I never felt  The way you got ...  \n626  biang biang biang biang ~ ba ba ba ba bang ban...  \n627  I've cheated and I've lied I've fallen down fr...  \n628  You can run free, I won't hold it against ya Y...  \n\n[629 rows x 3 columns]",
      "text/html": "<div>\n<style scoped>\n    .dataframe tbody tr th:only-of-type {\n        vertical-align: middle;\n    }\n\n    .dataframe tbody tr th {\n        vertical-align: top;\n    }\n\n    .dataframe thead th {\n        text-align: right;\n    }\n</style>\n<table border=\"1\" class=\"dataframe\">\n  <thead>\n    <tr style=\"text-align: right;\">\n      <th></th>\n      <th>music_id</th>\n      <th>music_artist</th>\n      <th>lyrics</th>\n    </tr>\n  </thead>\n  <tbody>\n    <tr>\n      <th>0</th>\n      <td>334</td>\n      <td>sem nome</td>\n      <td>It's my house, come on, turn it up Hear a knoc...</td>\n    </tr>\n    <tr>\n      <th>1</th>\n      <td>698</td>\n      <td>Trap_Girl</td>\n      <td>Tell me the price Tell me the price Tell me th...</td>\n    </tr>\n    <tr>\n      <th>2</th>\n      <td>350</td>\n      <td>工作婊</td>\n      <td>These bitches want Nikes They looking for a ch...</td>\n    </tr>\n    <tr>\n      <th>3</th>\n      <td>492</td>\n      <td>Kane Brown/Matt McGinn/Jordan Schmidt</td>\n      <td>You say what if I hurt you  What if I leave y...</td>\n    </tr>\n    <tr>\n      <th>4</th>\n      <td>311</td>\n      <td>雪贤Seolhyun</td>\n      <td>Súbeme la radio Tra-tráeme el alcohol Súbeme l...</td>\n    </tr>\n    <tr>\n      <th>...</th>\n      <td>...</td>\n      <td>...</td>\n      <td>...</td>\n    </tr>\n    <tr>\n      <th>624</th>\n      <td>399</td>\n      <td>Gucci Mane</td>\n      <td>Zone six! - I got money that I saved then I'm ...</td>\n    </tr>\n    <tr>\n      <th>625</th>\n      <td>606</td>\n      <td>sem nome</td>\n      <td>Inner feelings I never felt  The way you got ...</td>\n    </tr>\n    <tr>\n      <th>626</th>\n      <td>755</td>\n      <td>Paul McCartney</td>\n      <td>biang biang biang biang ~ ba ba ba ba bang ban...</td>\n    </tr>\n    <tr>\n      <th>627</th>\n      <td>648</td>\n      <td>sem nome</td>\n      <td>I've cheated and I've lied I've fallen down fr...</td>\n    </tr>\n    <tr>\n      <th>628</th>\n      <td>932</td>\n      <td>hondoes</td>\n      <td>You can run free, I won't hold it against ya Y...</td>\n    </tr>\n  </tbody>\n</table>\n<p>629 rows × 3 columns</p>\n</div>"
     },
     "execution_count": 183,
     "metadata": {},
     "output_type": "execute_result"
    }
   ],
   "source": [
    "import re\n",
    "\n",
    "from glob import glob\n",
    "dataset=[]\n",
    "for letra in glob(\"../data/raw/PMEmo2019/lyrics/*\"):\n",
    "    l = open(letra,\"r\")\n",
    "    l = l.readlines()\n",
    "    aux = 3*[0] #music_id, music_name, letra\n",
    "    aux[0] = letra.split(\"/\")[-1].split(\".\")[0] #music_id\n",
    "    if \"by:\" in l[0]:\n",
    "        aux[1]=l[0].split(\":\")[-1].replace(\"]\",\"\").replace('\\n',\"\")\n",
    "    else:\n",
    "        aux[1]= \"sem nome\"\n",
    "    l_tmp=[]#len(l)*[0]\n",
    "    l_tmp.append(aux[1])#music_name //eh ignorado\n",
    "    for i, content in enumerate(l[1:], start=1):\n",
    "        try:\n",
    "            l_tmp.append(content.split(\"]\")[-1].replace(\"\\n\",\"\") if \"]\" in content else content.replace(\"\\n\",\"\"))\n",
    "        except IndexError:\n",
    "            print(aux[0], content)\n",
    "            l_tmp.append(\"\")\n",
    "            pass\n",
    "    aux[2]=\" \".join(l_tmp[1:])\n",
    "    dataset.append(aux)\n",
    "df = pd.DataFrame(dataset, columns=[\"music_id\",\"music_artist\",\"lyrics\"])\n",
    "df"
   ],
   "metadata": {
    "collapsed": false,
    "pycharm": {
     "name": "#%%\n"
    }
   }
  },
  {
   "cell_type": "code",
   "execution_count": 184,
   "outputs": [],
   "source": [
    "df = df[df.music_id!=\"769\"] #musica sem letra"
   ],
   "metadata": {
    "collapsed": false,
    "pycharm": {
     "name": "#%%\n"
    }
   }
  },
  {
   "cell_type": "code",
   "execution_count": 185,
   "outputs": [
    {
     "data": {
      "text/plain": "    music_id                                       music_artist  \\\n5        461                                                工作婊   \n33       839                                               绿茶鸡腿   \n47       665                                        NickyRomero   \n60       471  Guy James Robin/Grace Barker/Jason Pebworth/Jo...   \n63       913                                           sem nome   \n92       979                                           sem nome   \n125      102                                           sem nome   \n130       40                                           sem nome   \n164      600                                           sem nome   \n166      329                             九九Lrc歌词网～www.99Lrc.net   \n176       78                                           sem nome   \n229      151                                      Akira_Takeshi   \n244      858                                         Hhhhhhaaaa   \n249      883                                           sem nome   \n289      332                                         Dafne丶keen   \n291      189                                             Bl_ues   \n293      267                                          Trap_Girl   \n301      147                     Chris Stapleton/Mike Henderson   \n311      915                                              White   \n316      459                            Brian Wilson/Tony Asher   \n336      149                                             稳稳的幸福惹   \n338      614                                          CaryCheng   \n340      204                                            Rayna-M   \n345       85                                           sem nome   \n354      108                                           sem nome   \n356       74                                       LaurenceJang   \n367      759                                               PIKO   \n390      225                                             初级说唱翻译   \n397      170                                                工作婊   \n407      507                                            哈里-斯泰尔斯   \n418      464                                         John Mayer   \n419       21                            Brian Wilson/Tony Asher   \n425      236                                             初级说唱翻译   \n426      310                                                工作婊   \n431      705                                               bill   \n436      715                                           sem nome   \n440      771                                               切换么事   \n446      391                                          youRcHeer   \n457      148           Chris Stapleton/Kendall Marvel/Tim James   \n468      202                                            哈里-斯泰尔斯   \n474      779                                           sem nome   \n490      506                                            hondoes   \n495       50                                           sem nome   \n526      491                                                燃情蓝   \n528      596                   Lin-Manuel Miranda/Opetaia Foa'i   \n532       20                                         Al Jarreau   \n550      884                      Wesley Schultz/Jeremy Fraites   \n578      996                                              miist   \n584      683                                           sem nome   \n587      192                                           sem nome   \n617      434                                            小陀螺Tony   \n618      660                                             HysHzz   \n621      166                                           sem nome   \n626      755                                     Paul McCartney   \n\n                                                lyrics  \n5    I am not done changing Out on the run, changin...  \n33   All the leaves are brown and the sky is gray I...  \n47   In the faded light you touch my body I can fee...  \n60   Let's go out and be wild Do it while we can (d...  \n63   A vision of my nails in the kitchen Scratching...  \n92   And I was just a kid I was always trying To do...  \n125  It`s the best time of the year I don`t know if...  \n130  Tale as old as time True as it can be Barely e...  \n164  I gotta heart rush, ain’t slowin’ down I got i...  \n166  That's my girl Who's been working so damn hard...  \n176  Jingle bells swing and jingle bells ring Snowi...  \n229  I used to spend my nights out In a bar room Li...  \n244  There will be days When the sun won't shine Wh...  \n249  让我们有请The Knocks 我带来了 名字叫做Wyclef的乐队 我们需要所有性感女士 ...  \n289  Listen to the wind blow Watch the sun rise Run...  \n291     Staring at two different views on your wind...  \n293  Ever hear some slow tracks You know what I'm s...  \n301  Seen my share of broken halos  Folded wings th...  \n311  I'm gonna fight 'em off A seven nation army co...  \n316  I may not always love you But as long as there...  \n336      Honey load up your questions And pick up y...  \n338       The Night We Met - Lord Huron Ohoo Ohoo O...  \n340  I was the one who had it all I was the master ...  \n345  At the Christmas party hop Mistletoe hung wher...  \n354  Lightning strikes every time she moves And eve...  \n356  There's an echo pulling out the meaning Rescui...  \n367  P P A P I have a pen I have an apple Uh apple ...  \n390  Oh, oh, oh, oh I've been hurt so many times It...  \n397  Come up to meet you, tell you I'm sorry You do...  \n407      I know he hurt you Made you scared of love...  \n418   A great big bang and dinosaurs Fiery raining ...  \n419  You were the shadow to my light Did you feel u...  \n425  I'm runnin' but can't run away You say you cha...  \n426  There's something sweet, and almost kind But h...  \n431  Hey there Mr. Tin Man You don't know how lucky...  \n436  I know that  I can count on you When that's no...  \n440  I'm not a woman I'm not a man I am something t...  \n446   Here come old flat top He come groovin' up sl...  \n457  We pass in the hall  On our way to separate ro...  \n468       I can honestly understand why it's over I...  \n474  Couldn't look you in the eye You're just like ...  \n490  I need a gangsta To love me better Than all th...  \n495  Kick  It! You  wake  up  late  for  school  ma...  \n526  Oh,father tell me, Do we get what we deserve O...  \n528  Tatou o tagata folau e vala’auina E le atua o ...  \n532  It's like a diamond ring It's a precious thing...  \n550  Ah, ah, when I was younger I, I should've know...  \n578  I'm facing the battle  Through all of my probl...  \n584  Everywhere you go; Take a look at the five and...  \n587  Turn down for what? Turn down for what? Turn d...  \n617  I see the, I see the I see the, I see the I se...  \n618      I'm going on Nothing feels like home I'm s...  \n621  Been rusting in the rubble Running to a faint ...  \n626  biang biang biang biang ~ ba ba ba ba bang ban...  ",
      "text/html": "<div>\n<style scoped>\n    .dataframe tbody tr th:only-of-type {\n        vertical-align: middle;\n    }\n\n    .dataframe tbody tr th {\n        vertical-align: top;\n    }\n\n    .dataframe thead th {\n        text-align: right;\n    }\n</style>\n<table border=\"1\" class=\"dataframe\">\n  <thead>\n    <tr style=\"text-align: right;\">\n      <th></th>\n      <th>music_id</th>\n      <th>music_artist</th>\n      <th>lyrics</th>\n    </tr>\n  </thead>\n  <tbody>\n    <tr>\n      <th>5</th>\n      <td>461</td>\n      <td>工作婊</td>\n      <td>I am not done changing Out on the run, changin...</td>\n    </tr>\n    <tr>\n      <th>33</th>\n      <td>839</td>\n      <td>绿茶鸡腿</td>\n      <td>All the leaves are brown and the sky is gray I...</td>\n    </tr>\n    <tr>\n      <th>47</th>\n      <td>665</td>\n      <td>NickyRomero</td>\n      <td>In the faded light you touch my body I can fee...</td>\n    </tr>\n    <tr>\n      <th>60</th>\n      <td>471</td>\n      <td>Guy James Robin/Grace Barker/Jason Pebworth/Jo...</td>\n      <td>Let's go out and be wild Do it while we can (d...</td>\n    </tr>\n    <tr>\n      <th>63</th>\n      <td>913</td>\n      <td>sem nome</td>\n      <td>A vision of my nails in the kitchen Scratching...</td>\n    </tr>\n    <tr>\n      <th>92</th>\n      <td>979</td>\n      <td>sem nome</td>\n      <td>And I was just a kid I was always trying To do...</td>\n    </tr>\n    <tr>\n      <th>125</th>\n      <td>102</td>\n      <td>sem nome</td>\n      <td>It`s the best time of the year I don`t know if...</td>\n    </tr>\n    <tr>\n      <th>130</th>\n      <td>40</td>\n      <td>sem nome</td>\n      <td>Tale as old as time True as it can be Barely e...</td>\n    </tr>\n    <tr>\n      <th>164</th>\n      <td>600</td>\n      <td>sem nome</td>\n      <td>I gotta heart rush, ain’t slowin’ down I got i...</td>\n    </tr>\n    <tr>\n      <th>166</th>\n      <td>329</td>\n      <td>九九Lrc歌词网～www.99Lrc.net</td>\n      <td>That's my girl Who's been working so damn hard...</td>\n    </tr>\n    <tr>\n      <th>176</th>\n      <td>78</td>\n      <td>sem nome</td>\n      <td>Jingle bells swing and jingle bells ring Snowi...</td>\n    </tr>\n    <tr>\n      <th>229</th>\n      <td>151</td>\n      <td>Akira_Takeshi</td>\n      <td>I used to spend my nights out In a bar room Li...</td>\n    </tr>\n    <tr>\n      <th>244</th>\n      <td>858</td>\n      <td>Hhhhhhaaaa</td>\n      <td>There will be days When the sun won't shine Wh...</td>\n    </tr>\n    <tr>\n      <th>249</th>\n      <td>883</td>\n      <td>sem nome</td>\n      <td>让我们有请The Knocks 我带来了 名字叫做Wyclef的乐队 我们需要所有性感女士 ...</td>\n    </tr>\n    <tr>\n      <th>289</th>\n      <td>332</td>\n      <td>Dafne丶keen</td>\n      <td>Listen to the wind blow Watch the sun rise Run...</td>\n    </tr>\n    <tr>\n      <th>291</th>\n      <td>189</td>\n      <td>Bl_ues</td>\n      <td>Staring at two different views on your wind...</td>\n    </tr>\n    <tr>\n      <th>293</th>\n      <td>267</td>\n      <td>Trap_Girl</td>\n      <td>Ever hear some slow tracks You know what I'm s...</td>\n    </tr>\n    <tr>\n      <th>301</th>\n      <td>147</td>\n      <td>Chris Stapleton/Mike Henderson</td>\n      <td>Seen my share of broken halos  Folded wings th...</td>\n    </tr>\n    <tr>\n      <th>311</th>\n      <td>915</td>\n      <td>White</td>\n      <td>I'm gonna fight 'em off A seven nation army co...</td>\n    </tr>\n    <tr>\n      <th>316</th>\n      <td>459</td>\n      <td>Brian Wilson/Tony Asher</td>\n      <td>I may not always love you But as long as there...</td>\n    </tr>\n    <tr>\n      <th>336</th>\n      <td>149</td>\n      <td>稳稳的幸福惹</td>\n      <td>Honey load up your questions And pick up y...</td>\n    </tr>\n    <tr>\n      <th>338</th>\n      <td>614</td>\n      <td>CaryCheng</td>\n      <td>The Night We Met - Lord Huron Ohoo Ohoo O...</td>\n    </tr>\n    <tr>\n      <th>340</th>\n      <td>204</td>\n      <td>Rayna-M</td>\n      <td>I was the one who had it all I was the master ...</td>\n    </tr>\n    <tr>\n      <th>345</th>\n      <td>85</td>\n      <td>sem nome</td>\n      <td>At the Christmas party hop Mistletoe hung wher...</td>\n    </tr>\n    <tr>\n      <th>354</th>\n      <td>108</td>\n      <td>sem nome</td>\n      <td>Lightning strikes every time she moves And eve...</td>\n    </tr>\n    <tr>\n      <th>356</th>\n      <td>74</td>\n      <td>LaurenceJang</td>\n      <td>There's an echo pulling out the meaning Rescui...</td>\n    </tr>\n    <tr>\n      <th>367</th>\n      <td>759</td>\n      <td>PIKO</td>\n      <td>P P A P I have a pen I have an apple Uh apple ...</td>\n    </tr>\n    <tr>\n      <th>390</th>\n      <td>225</td>\n      <td>初级说唱翻译</td>\n      <td>Oh, oh, oh, oh I've been hurt so many times It...</td>\n    </tr>\n    <tr>\n      <th>397</th>\n      <td>170</td>\n      <td>工作婊</td>\n      <td>Come up to meet you, tell you I'm sorry You do...</td>\n    </tr>\n    <tr>\n      <th>407</th>\n      <td>507</td>\n      <td>哈里-斯泰尔斯</td>\n      <td>I know he hurt you Made you scared of love...</td>\n    </tr>\n    <tr>\n      <th>418</th>\n      <td>464</td>\n      <td>John Mayer</td>\n      <td>A great big bang and dinosaurs Fiery raining ...</td>\n    </tr>\n    <tr>\n      <th>419</th>\n      <td>21</td>\n      <td>Brian Wilson/Tony Asher</td>\n      <td>You were the shadow to my light Did you feel u...</td>\n    </tr>\n    <tr>\n      <th>425</th>\n      <td>236</td>\n      <td>初级说唱翻译</td>\n      <td>I'm runnin' but can't run away You say you cha...</td>\n    </tr>\n    <tr>\n      <th>426</th>\n      <td>310</td>\n      <td>工作婊</td>\n      <td>There's something sweet, and almost kind But h...</td>\n    </tr>\n    <tr>\n      <th>431</th>\n      <td>705</td>\n      <td>bill</td>\n      <td>Hey there Mr. Tin Man You don't know how lucky...</td>\n    </tr>\n    <tr>\n      <th>436</th>\n      <td>715</td>\n      <td>sem nome</td>\n      <td>I know that  I can count on you When that's no...</td>\n    </tr>\n    <tr>\n      <th>440</th>\n      <td>771</td>\n      <td>切换么事</td>\n      <td>I'm not a woman I'm not a man I am something t...</td>\n    </tr>\n    <tr>\n      <th>446</th>\n      <td>391</td>\n      <td>youRcHeer</td>\n      <td>Here come old flat top He come groovin' up sl...</td>\n    </tr>\n    <tr>\n      <th>457</th>\n      <td>148</td>\n      <td>Chris Stapleton/Kendall Marvel/Tim James</td>\n      <td>We pass in the hall  On our way to separate ro...</td>\n    </tr>\n    <tr>\n      <th>468</th>\n      <td>202</td>\n      <td>哈里-斯泰尔斯</td>\n      <td>I can honestly understand why it's over I...</td>\n    </tr>\n    <tr>\n      <th>474</th>\n      <td>779</td>\n      <td>sem nome</td>\n      <td>Couldn't look you in the eye You're just like ...</td>\n    </tr>\n    <tr>\n      <th>490</th>\n      <td>506</td>\n      <td>hondoes</td>\n      <td>I need a gangsta To love me better Than all th...</td>\n    </tr>\n    <tr>\n      <th>495</th>\n      <td>50</td>\n      <td>sem nome</td>\n      <td>Kick  It! You  wake  up  late  for  school  ma...</td>\n    </tr>\n    <tr>\n      <th>526</th>\n      <td>491</td>\n      <td>燃情蓝</td>\n      <td>Oh,father tell me, Do we get what we deserve O...</td>\n    </tr>\n    <tr>\n      <th>528</th>\n      <td>596</td>\n      <td>Lin-Manuel Miranda/Opetaia Foa'i</td>\n      <td>Tatou o tagata folau e vala’auina E le atua o ...</td>\n    </tr>\n    <tr>\n      <th>532</th>\n      <td>20</td>\n      <td>Al Jarreau</td>\n      <td>It's like a diamond ring It's a precious thing...</td>\n    </tr>\n    <tr>\n      <th>550</th>\n      <td>884</td>\n      <td>Wesley Schultz/Jeremy Fraites</td>\n      <td>Ah, ah, when I was younger I, I should've know...</td>\n    </tr>\n    <tr>\n      <th>578</th>\n      <td>996</td>\n      <td>miist</td>\n      <td>I'm facing the battle  Through all of my probl...</td>\n    </tr>\n    <tr>\n      <th>584</th>\n      <td>683</td>\n      <td>sem nome</td>\n      <td>Everywhere you go; Take a look at the five and...</td>\n    </tr>\n    <tr>\n      <th>587</th>\n      <td>192</td>\n      <td>sem nome</td>\n      <td>Turn down for what? Turn down for what? Turn d...</td>\n    </tr>\n    <tr>\n      <th>617</th>\n      <td>434</td>\n      <td>小陀螺Tony</td>\n      <td>I see the, I see the I see the, I see the I se...</td>\n    </tr>\n    <tr>\n      <th>618</th>\n      <td>660</td>\n      <td>HysHzz</td>\n      <td>I'm going on Nothing feels like home I'm s...</td>\n    </tr>\n    <tr>\n      <th>621</th>\n      <td>166</td>\n      <td>sem nome</td>\n      <td>Been rusting in the rubble Running to a faint ...</td>\n    </tr>\n    <tr>\n      <th>626</th>\n      <td>755</td>\n      <td>Paul McCartney</td>\n      <td>biang biang biang biang ~ ba ba ba ba bang ban...</td>\n    </tr>\n  </tbody>\n</table>\n</div>"
     },
     "execution_count": 185,
     "metadata": {},
     "output_type": "execute_result"
    }
   ],
   "source": [
    "#len(df[df.music_artist==\"sem nome\"])\n",
    "#df[(df.lyrics.str.len()>800)&(df.lyrics.str.len()<=1000)]\n",
    "df[(df.lyrics.str.len()<=1000)]"
   ],
   "metadata": {
    "collapsed": false,
    "pycharm": {
     "name": "#%%\n"
    }
   }
  },
  {
   "cell_type": "code",
   "execution_count": 187,
   "outputs": [],
   "source": [
    "df.to_csv(\"../data/processed/lyrics.csv\")"
   ],
   "metadata": {
    "collapsed": false,
    "pycharm": {
     "name": "#%%\n"
    }
   }
  }
 ],
 "metadata": {
  "kernelspec": {
   "display_name": "Python 3",
   "language": "python",
   "name": "python3"
  },
  "language_info": {
   "codemirror_mode": {
    "name": "ipython",
    "version": 2
   },
   "file_extension": ".py",
   "mimetype": "text/x-python",
   "name": "python",
   "nbconvert_exporter": "python",
   "pygments_lexer": "ipython2",
   "version": "2.7.6"
  }
 },
 "nbformat": 4,
 "nbformat_minor": 0
}